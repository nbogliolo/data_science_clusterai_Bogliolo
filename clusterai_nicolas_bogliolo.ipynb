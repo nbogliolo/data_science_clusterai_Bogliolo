{
 "cells": [
  {
   "cell_type": "code",
   "execution_count": 1,
   "metadata": {},
   "outputs": [],
   "source": [
    "import numpy as np\n",
    "import pandas as pd\n",
    "import matplotlib.pyplot as plt\n",
    "import seaborn as sns"
   ]
  },
  {
   "cell_type": "code",
   "execution_count": 2,
   "metadata": {},
   "outputs": [],
   "source": [
    "from sklearn import svm\n",
    "from sklearn.svm import SVC\n",
    "from sklearn.model_selection import train_test_split\n",
    "from sklearn.metrics import accuracy_score\n",
    "from sklearn.model_selection import cross_val_score\n",
    "from sklearn.metrics import roc_curve, auc\n",
    "from sklearn import metrics\n",
    "from sklearn.model_selection import GridSearchCV\n",
    "from sklearn.metrics import confusion_matrix\n",
    "from sklearn.neighbors import KNeighborsClassifier"
   ]
  },
  {
   "cell_type": "code",
   "execution_count": 3,
   "metadata": {},
   "outputs": [],
   "source": [
    "from sklearn import svm\n",
    "from sklearn.svm import SVC\n",
    "from sklearn.model_selection import train_test_split\n",
    "from sklearn.metrics import accuracy_score\n",
    "from sklearn.model_selection import cross_val_score\n",
    "from sklearn.metrics import roc_curve, auc\n",
    "from sklearn import metrics\n",
    "from sklearn.model_selection import GridSearchCV\n",
    "from sklearn.metrics import confusion_matrix\n",
    "from sklearn.neighbors import KNeighborsClassifier\n",
    "from sklearn.linear_model import LogisticRegression\n",
    "from sklearn.metrics import average_precision_score"
   ]
  },
  {
   "cell_type": "code",
   "execution_count": 4,
   "metadata": {},
   "outputs": [
    {
     "data": {
      "text/plain": [
       "'C:\\\\Users\\\\nicolas\\\\Documents\\\\Ciencias de Datos\\\\Trabajo'"
      ]
     },
     "execution_count": 4,
     "metadata": {},
     "output_type": "execute_result"
    }
   ],
   "source": [
    "pwd"
   ]
  },
  {
   "cell_type": "code",
   "execution_count": 5,
   "metadata": {},
   "outputs": [
    {
     "name": "stdout",
     "output_type": "stream",
     "text": [
      " Volume in drive C is OS\n",
      " Volume Serial Number is 84CC-93E0\n",
      "\n",
      " Directory of C:\\Users\\nicolas\\Documents\\Ciencias de Datos\\Trabajo\n",
      "\n",
      "17/11/2019  18:32    <DIR>          .\n",
      "17/11/2019  18:32    <DIR>          ..\n",
      "26/10/2019  09:23    <DIR>          .ipynb_checkpoints\n",
      "26/10/2019  09:31    <DIR>          Dataset\n",
      "17/11/2019  18:32           320,950 EDH.ipynb\n",
      "17/11/2019  18:27           196,583 Prediccion de pobreza.docx\n",
      "05/10/2019  13:03           815,076 TP Cuatrimestral v1.ipynb\n",
      "04/10/2019  17:33           542,370 TP Cuatrimestral.ipynb\n",
      "05/10/2019  09:33    <DIR>          Tp petroleo\n",
      "06/11/2019  22:39        22,296,541 usu_individual_t119.csv\n",
      "               5 File(s)     24,171,520 bytes\n",
      "               5 Dir(s)  395,427,491,840 bytes free\n"
     ]
    }
   ],
   "source": [
    "ls"
   ]
  },
  {
   "cell_type": "code",
   "execution_count": 6,
   "metadata": {
    "scrolled": true
   },
   "outputs": [
    {
     "name": "stderr",
     "output_type": "stream",
     "text": [
      "C:\\Users\\nicolas\\Anaconda3\\lib\\site-packages\\IPython\\core\\interactiveshell.py:3057: DtypeWarning: Columns (9,95,100,102,105,134,136,139,143,145,148,150,154,155,158,176) have mixed types. Specify dtype option on import or set low_memory=False.\n",
      "  interactivity=interactivity, compiler=compiler, result=result)\n"
     ]
    }
   ],
   "source": [
    "edh = pd.read_csv(r'C:\\Users\\nicolas\\Documents\\Ciencias de Datos\\Trabajo\\usu_individual_t119.csv', delimiter=';', parse_dates = True)"
   ]
  },
  {
   "cell_type": "code",
   "execution_count": 7,
   "metadata": {},
   "outputs": [],
   "source": [
    "edh_clean=edh.iloc[:,[6,11,13,14,15,16,17,22, 26,27,28,29,141,162,169,177]]"
   ]
  },
  {
   "cell_type": "code",
   "execution_count": 8,
   "metadata": {},
   "outputs": [
    {
     "data": {
      "text/plain": [
       "(59369, 16)"
      ]
     },
     "execution_count": 8,
     "metadata": {},
     "output_type": "execute_result"
    }
   ],
   "source": [
    "edh_clean.shape"
   ]
  },
  {
   "cell_type": "code",
   "execution_count": 9,
   "metadata": {},
   "outputs": [
    {
     "name": "stderr",
     "output_type": "stream",
     "text": [
      "C:\\Users\\nicolas\\Anaconda3\\lib\\site-packages\\pandas\\core\\frame.py:4025: SettingWithCopyWarning: \n",
      "A value is trying to be set on a copy of a slice from a DataFrame\n",
      "\n",
      "See the caveats in the documentation: http://pandas.pydata.org/pandas-docs/stable/indexing.html#indexing-view-versus-copy\n",
      "  return super(DataFrame, self).rename(**kwargs)\n"
     ]
    },
    {
     "data": {
      "text/html": [
       "<div>\n",
       "<style scoped>\n",
       "    .dataframe tbody tr th:only-of-type {\n",
       "        vertical-align: middle;\n",
       "    }\n",
       "\n",
       "    .dataframe tbody tr th {\n",
       "        vertical-align: top;\n",
       "    }\n",
       "\n",
       "    .dataframe thead th {\n",
       "        text-align: right;\n",
       "    }\n",
       "</style>\n",
       "<table border=\"1\" class=\"dataframe\">\n",
       "  <thead>\n",
       "    <tr style=\"text-align: right;\">\n",
       "      <th></th>\n",
       "      <th>REGION</th>\n",
       "      <th>Sexo</th>\n",
       "      <th>Edad</th>\n",
       "      <th>Estado_Civil</th>\n",
       "      <th>Tipo_de_Cobertura</th>\n",
       "      <th>Sabe_leer_y_escribir?</th>\n",
       "      <th>Estudia?</th>\n",
       "      <th>Nacionalidad</th>\n",
       "      <th>Nivel_Educativo</th>\n",
       "      <th>ESTADO</th>\n",
       "      <th>Categoria_Ocupacional</th>\n",
       "      <th>Categoria_Inactividad</th>\n",
       "      <th>Monto_Ingreso_Individual</th>\n",
       "      <th>Monto_Ingreso_Familiar</th>\n",
       "      <th>Monto_Ingreso_Per_Capita</th>\n",
       "      <th>Habitantes_Hogar</th>\n",
       "    </tr>\n",
       "  </thead>\n",
       "  <tbody>\n",
       "    <tr>\n",
       "      <th>0</th>\n",
       "      <td>41</td>\n",
       "      <td>2</td>\n",
       "      <td>28</td>\n",
       "      <td>1</td>\n",
       "      <td>4</td>\n",
       "      <td>1</td>\n",
       "      <td>2</td>\n",
       "      <td>1</td>\n",
       "      <td>4</td>\n",
       "      <td>3</td>\n",
       "      <td>0</td>\n",
       "      <td>4</td>\n",
       "      <td>2000.0</td>\n",
       "      <td>7000</td>\n",
       "      <td>1750</td>\n",
       "      <td>4</td>\n",
       "    </tr>\n",
       "    <tr>\n",
       "      <th>1</th>\n",
       "      <td>41</td>\n",
       "      <td>2</td>\n",
       "      <td>13</td>\n",
       "      <td>5</td>\n",
       "      <td>4</td>\n",
       "      <td>1</td>\n",
       "      <td>1</td>\n",
       "      <td>1</td>\n",
       "      <td>3</td>\n",
       "      <td>3</td>\n",
       "      <td>0</td>\n",
       "      <td>3</td>\n",
       "      <td>0.0</td>\n",
       "      <td>7000</td>\n",
       "      <td>1750</td>\n",
       "      <td>4</td>\n",
       "    </tr>\n",
       "    <tr>\n",
       "      <th>2</th>\n",
       "      <td>41</td>\n",
       "      <td>1</td>\n",
       "      <td>1</td>\n",
       "      <td>5</td>\n",
       "      <td>4</td>\n",
       "      <td>3</td>\n",
       "      <td>0</td>\n",
       "      <td>1</td>\n",
       "      <td>7</td>\n",
       "      <td>4</td>\n",
       "      <td>0</td>\n",
       "      <td>5</td>\n",
       "      <td>0.0</td>\n",
       "      <td>7000</td>\n",
       "      <td>1750</td>\n",
       "      <td>4</td>\n",
       "    </tr>\n",
       "    <tr>\n",
       "      <th>3</th>\n",
       "      <td>41</td>\n",
       "      <td>2</td>\n",
       "      <td>41</td>\n",
       "      <td>5</td>\n",
       "      <td>4</td>\n",
       "      <td>1</td>\n",
       "      <td>2</td>\n",
       "      <td>1</td>\n",
       "      <td>5</td>\n",
       "      <td>1</td>\n",
       "      <td>3</td>\n",
       "      <td>0</td>\n",
       "      <td>6200.0</td>\n",
       "      <td>6200</td>\n",
       "      <td>3100</td>\n",
       "      <td>2</td>\n",
       "    </tr>\n",
       "    <tr>\n",
       "      <th>4</th>\n",
       "      <td>41</td>\n",
       "      <td>2</td>\n",
       "      <td>9</td>\n",
       "      <td>5</td>\n",
       "      <td>4</td>\n",
       "      <td>1</td>\n",
       "      <td>1</td>\n",
       "      <td>1</td>\n",
       "      <td>1</td>\n",
       "      <td>4</td>\n",
       "      <td>0</td>\n",
       "      <td>3</td>\n",
       "      <td>0.0</td>\n",
       "      <td>6200</td>\n",
       "      <td>3100</td>\n",
       "      <td>2</td>\n",
       "    </tr>\n",
       "  </tbody>\n",
       "</table>\n",
       "</div>"
      ],
      "text/plain": [
       "   REGION  Sexo  Edad  Estado_Civil  Tipo_de_Cobertura  Sabe_leer_y_escribir?  \\\n",
       "0      41     2    28             1                  4                      1   \n",
       "1      41     2    13             5                  4                      1   \n",
       "2      41     1     1             5                  4                      3   \n",
       "3      41     2    41             5                  4                      1   \n",
       "4      41     2     9             5                  4                      1   \n",
       "\n",
       "   Estudia?  Nacionalidad  Nivel_Educativo  ESTADO  Categoria_Ocupacional  \\\n",
       "0         2             1                4       3                      0   \n",
       "1         1             1                3       3                      0   \n",
       "2         0             1                7       4                      0   \n",
       "3         2             1                5       1                      3   \n",
       "4         1             1                1       4                      0   \n",
       "\n",
       "   Categoria_Inactividad  Monto_Ingreso_Individual  Monto_Ingreso_Familiar  \\\n",
       "0                      4                    2000.0                    7000   \n",
       "1                      3                       0.0                    7000   \n",
       "2                      5                       0.0                    7000   \n",
       "3                      0                    6200.0                    6200   \n",
       "4                      3                       0.0                    6200   \n",
       "\n",
       "   Monto_Ingreso_Per_Capita  Habitantes_Hogar  \n",
       "0                      1750                 4  \n",
       "1                      1750                 4  \n",
       "2                      1750                 4  \n",
       "3                      3100                 2  \n",
       "4                      3100                 2  "
      ]
     },
     "execution_count": 9,
     "metadata": {},
     "output_type": "execute_result"
    }
   ],
   "source": [
    "edh_clean.rename(columns={\"CH04\":\"Sexo\",\"CH06\":\"Edad\",\"CH07\":\"Estado_Civil\",\"CH08\":\"Tipo_de_Cobertura\",\"CH09\":\"Sabe_leer_y_escribir?\", \"CH10\":\"Estudia?\",\"NIVEL_ED\":\"Nivel_Educativo\",\"CH15\":\"Nacionalidad\",\"Estado\":\"Condición_Laboral\",\"CAT_OCUP\":\"Categoria_Ocupacional\",\"CAT_INAC\":\"Categoria_Inactividad\", \"P47T\":\"Monto_Ingreso_Individual\", \"ITF\":\"Monto_Ingreso_Familiar\", \"IPCF\":\"Monto_Ingreso_Per_Capita\", \"NHH\":\"Habitantes_Hogar\"}, inplace=True)\n",
    "edh_clean.head()"
   ]
  },
  {
   "cell_type": "code",
   "execution_count": 10,
   "metadata": {},
   "outputs": [
    {
     "data": {
      "text/plain": [
       "count    5.936900e+04\n",
       "mean     3.235771e+04\n",
       "std      3.591157e+04\n",
       "min      0.000000e+00\n",
       "25%      1.000000e+04\n",
       "50%      2.580000e+04\n",
       "75%      4.500000e+04\n",
       "max      2.013299e+06\n",
       "Name: Monto_Ingreso_Familiar, dtype: float64"
      ]
     },
     "execution_count": 10,
     "metadata": {},
     "output_type": "execute_result"
    }
   ],
   "source": [
    "edh_clean[\"Monto_Ingreso_Familiar\"].describe()"
   ]
  },
  {
   "cell_type": "code",
   "execution_count": 11,
   "metadata": {},
   "outputs": [
    {
     "data": {
      "text/html": [
       "<div>\n",
       "<style scoped>\n",
       "    .dataframe tbody tr th:only-of-type {\n",
       "        vertical-align: middle;\n",
       "    }\n",
       "\n",
       "    .dataframe tbody tr th {\n",
       "        vertical-align: top;\n",
       "    }\n",
       "\n",
       "    .dataframe thead th {\n",
       "        text-align: right;\n",
       "    }\n",
       "</style>\n",
       "<table border=\"1\" class=\"dataframe\">\n",
       "  <thead>\n",
       "    <tr style=\"text-align: right;\">\n",
       "      <th></th>\n",
       "      <th>REGION</th>\n",
       "      <th>Sexo</th>\n",
       "      <th>Edad</th>\n",
       "      <th>Estado_Civil</th>\n",
       "      <th>Tipo_de_Cobertura</th>\n",
       "      <th>Sabe_leer_y_escribir?</th>\n",
       "      <th>Estudia?</th>\n",
       "      <th>Nacionalidad</th>\n",
       "      <th>Nivel_Educativo</th>\n",
       "      <th>ESTADO</th>\n",
       "      <th>Categoria_Ocupacional</th>\n",
       "      <th>Categoria_Inactividad</th>\n",
       "      <th>Monto_Ingreso_Individual</th>\n",
       "      <th>Monto_Ingreso_Familiar</th>\n",
       "      <th>Monto_Ingreso_Per_Capita</th>\n",
       "      <th>Habitantes_Hogar</th>\n",
       "    </tr>\n",
       "  </thead>\n",
       "  <tbody>\n",
       "    <tr>\n",
       "      <th>count</th>\n",
       "      <td>59369.000000</td>\n",
       "      <td>59369.000000</td>\n",
       "      <td>59369.000000</td>\n",
       "      <td>59369.000000</td>\n",
       "      <td>59369.000000</td>\n",
       "      <td>59369.000000</td>\n",
       "      <td>59369.000000</td>\n",
       "      <td>59369.000000</td>\n",
       "      <td>59369.000000</td>\n",
       "      <td>59369.000000</td>\n",
       "      <td>59369.000000</td>\n",
       "      <td>59369.000000</td>\n",
       "      <td>5.925800e+04</td>\n",
       "      <td>5.936900e+04</td>\n",
       "      <td>5.936900e+04</td>\n",
       "      <td>59369.000000</td>\n",
       "    </tr>\n",
       "    <tr>\n",
       "      <th>mean</th>\n",
       "      <td>34.886759</td>\n",
       "      <td>1.516549</td>\n",
       "      <td>34.724621</td>\n",
       "      <td>3.496303</td>\n",
       "      <td>2.193990</td>\n",
       "      <td>1.116172</td>\n",
       "      <td>1.671327</td>\n",
       "      <td>1.433240</td>\n",
       "      <td>3.716199</td>\n",
       "      <td>2.283060</td>\n",
       "      <td>1.196348</td>\n",
       "      <td>1.685661</td>\n",
       "      <td>1.052400e+04</td>\n",
       "      <td>3.235771e+04</td>\n",
       "      <td>9.750320e+03</td>\n",
       "      <td>3.308494</td>\n",
       "    </tr>\n",
       "    <tr>\n",
       "      <th>std</th>\n",
       "      <td>15.627859</td>\n",
       "      <td>0.499730</td>\n",
       "      <td>22.338798</td>\n",
       "      <td>1.642767</td>\n",
       "      <td>2.008844</td>\n",
       "      <td>0.389825</td>\n",
       "      <td>0.570723</td>\n",
       "      <td>0.864445</td>\n",
       "      <td>1.821816</td>\n",
       "      <td>1.147375</td>\n",
       "      <td>1.397464</td>\n",
       "      <td>1.903531</td>\n",
       "      <td>2.102426e+04</td>\n",
       "      <td>3.591157e+04</td>\n",
       "      <td>1.312682e+04</td>\n",
       "      <td>2.489301</td>\n",
       "    </tr>\n",
       "    <tr>\n",
       "      <th>min</th>\n",
       "      <td>1.000000</td>\n",
       "      <td>1.000000</td>\n",
       "      <td>-1.000000</td>\n",
       "      <td>1.000000</td>\n",
       "      <td>1.000000</td>\n",
       "      <td>1.000000</td>\n",
       "      <td>0.000000</td>\n",
       "      <td>1.000000</td>\n",
       "      <td>1.000000</td>\n",
       "      <td>0.000000</td>\n",
       "      <td>0.000000</td>\n",
       "      <td>0.000000</td>\n",
       "      <td>-9.000000e+00</td>\n",
       "      <td>0.000000e+00</td>\n",
       "      <td>0.000000e+00</td>\n",
       "      <td>0.000000</td>\n",
       "    </tr>\n",
       "    <tr>\n",
       "      <th>25%</th>\n",
       "      <td>40.000000</td>\n",
       "      <td>1.000000</td>\n",
       "      <td>16.000000</td>\n",
       "      <td>2.000000</td>\n",
       "      <td>1.000000</td>\n",
       "      <td>1.000000</td>\n",
       "      <td>1.000000</td>\n",
       "      <td>1.000000</td>\n",
       "      <td>2.000000</td>\n",
       "      <td>1.000000</td>\n",
       "      <td>0.000000</td>\n",
       "      <td>0.000000</td>\n",
       "      <td>0.000000e+00</td>\n",
       "      <td>1.000000e+04</td>\n",
       "      <td>2.500000e+03</td>\n",
       "      <td>1.000000</td>\n",
       "    </tr>\n",
       "    <tr>\n",
       "      <th>50%</th>\n",
       "      <td>42.000000</td>\n",
       "      <td>2.000000</td>\n",
       "      <td>32.000000</td>\n",
       "      <td>5.000000</td>\n",
       "      <td>1.000000</td>\n",
       "      <td>1.000000</td>\n",
       "      <td>2.000000</td>\n",
       "      <td>1.000000</td>\n",
       "      <td>4.000000</td>\n",
       "      <td>3.000000</td>\n",
       "      <td>0.000000</td>\n",
       "      <td>1.000000</td>\n",
       "      <td>2.000000e+03</td>\n",
       "      <td>2.580000e+04</td>\n",
       "      <td>6.900000e+03</td>\n",
       "      <td>3.000000</td>\n",
       "    </tr>\n",
       "    <tr>\n",
       "      <th>75%</th>\n",
       "      <td>43.000000</td>\n",
       "      <td>2.000000</td>\n",
       "      <td>51.000000</td>\n",
       "      <td>5.000000</td>\n",
       "      <td>4.000000</td>\n",
       "      <td>1.000000</td>\n",
       "      <td>2.000000</td>\n",
       "      <td>1.000000</td>\n",
       "      <td>5.000000</td>\n",
       "      <td>3.000000</td>\n",
       "      <td>3.000000</td>\n",
       "      <td>3.000000</td>\n",
       "      <td>1.550000e+04</td>\n",
       "      <td>4.500000e+04</td>\n",
       "      <td>1.300000e+04</td>\n",
       "      <td>5.000000</td>\n",
       "    </tr>\n",
       "    <tr>\n",
       "      <th>max</th>\n",
       "      <td>44.000000</td>\n",
       "      <td>2.000000</td>\n",
       "      <td>103.000000</td>\n",
       "      <td>9.000000</td>\n",
       "      <td>123.000000</td>\n",
       "      <td>3.000000</td>\n",
       "      <td>3.000000</td>\n",
       "      <td>9.000000</td>\n",
       "      <td>7.000000</td>\n",
       "      <td>4.000000</td>\n",
       "      <td>9.000000</td>\n",
       "      <td>7.000000</td>\n",
       "      <td>2.003999e+06</td>\n",
       "      <td>2.013299e+06</td>\n",
       "      <td>1.006650e+06</td>\n",
       "      <td>20.000000</td>\n",
       "    </tr>\n",
       "  </tbody>\n",
       "</table>\n",
       "</div>"
      ],
      "text/plain": [
       "             REGION          Sexo          Edad  Estado_Civil  \\\n",
       "count  59369.000000  59369.000000  59369.000000  59369.000000   \n",
       "mean      34.886759      1.516549     34.724621      3.496303   \n",
       "std       15.627859      0.499730     22.338798      1.642767   \n",
       "min        1.000000      1.000000     -1.000000      1.000000   \n",
       "25%       40.000000      1.000000     16.000000      2.000000   \n",
       "50%       42.000000      2.000000     32.000000      5.000000   \n",
       "75%       43.000000      2.000000     51.000000      5.000000   \n",
       "max       44.000000      2.000000    103.000000      9.000000   \n",
       "\n",
       "       Tipo_de_Cobertura  Sabe_leer_y_escribir?      Estudia?  Nacionalidad  \\\n",
       "count       59369.000000           59369.000000  59369.000000  59369.000000   \n",
       "mean            2.193990               1.116172      1.671327      1.433240   \n",
       "std             2.008844               0.389825      0.570723      0.864445   \n",
       "min             1.000000               1.000000      0.000000      1.000000   \n",
       "25%             1.000000               1.000000      1.000000      1.000000   \n",
       "50%             1.000000               1.000000      2.000000      1.000000   \n",
       "75%             4.000000               1.000000      2.000000      1.000000   \n",
       "max           123.000000               3.000000      3.000000      9.000000   \n",
       "\n",
       "       Nivel_Educativo        ESTADO  Categoria_Ocupacional  \\\n",
       "count     59369.000000  59369.000000           59369.000000   \n",
       "mean          3.716199      2.283060               1.196348   \n",
       "std           1.821816      1.147375               1.397464   \n",
       "min           1.000000      0.000000               0.000000   \n",
       "25%           2.000000      1.000000               0.000000   \n",
       "50%           4.000000      3.000000               0.000000   \n",
       "75%           5.000000      3.000000               3.000000   \n",
       "max           7.000000      4.000000               9.000000   \n",
       "\n",
       "       Categoria_Inactividad  Monto_Ingreso_Individual  \\\n",
       "count           59369.000000              5.925800e+04   \n",
       "mean                1.685661              1.052400e+04   \n",
       "std                 1.903531              2.102426e+04   \n",
       "min                 0.000000             -9.000000e+00   \n",
       "25%                 0.000000              0.000000e+00   \n",
       "50%                 1.000000              2.000000e+03   \n",
       "75%                 3.000000              1.550000e+04   \n",
       "max                 7.000000              2.003999e+06   \n",
       "\n",
       "       Monto_Ingreso_Familiar  Monto_Ingreso_Per_Capita  Habitantes_Hogar  \n",
       "count            5.936900e+04              5.936900e+04      59369.000000  \n",
       "mean             3.235771e+04              9.750320e+03          3.308494  \n",
       "std              3.591157e+04              1.312682e+04          2.489301  \n",
       "min              0.000000e+00              0.000000e+00          0.000000  \n",
       "25%              1.000000e+04              2.500000e+03          1.000000  \n",
       "50%              2.580000e+04              6.900000e+03          3.000000  \n",
       "75%              4.500000e+04              1.300000e+04          5.000000  \n",
       "max              2.013299e+06              1.006650e+06         20.000000  "
      ]
     },
     "execution_count": 11,
     "metadata": {},
     "output_type": "execute_result"
    }
   ],
   "source": [
    "edh_clean.describe()"
   ]
  },
  {
   "cell_type": "code",
   "execution_count": 12,
   "metadata": {},
   "outputs": [
    {
     "name": "stderr",
     "output_type": "stream",
     "text": [
      "C:\\Users\\nicolas\\Anaconda3\\lib\\site-packages\\ipykernel_launcher.py:1: SettingWithCopyWarning: \n",
      "A value is trying to be set on a copy of a slice from a DataFrame.\n",
      "Try using .loc[row_indexer,col_indexer] = value instead\n",
      "\n",
      "See the caveats in the documentation: http://pandas.pydata.org/pandas-docs/stable/indexing.html#indexing-view-versus-copy\n",
      "  \"\"\"Entry point for launching an IPython kernel.\n",
      "C:\\Users\\nicolas\\Anaconda3\\lib\\site-packages\\ipykernel_launcher.py:2: SettingWithCopyWarning: \n",
      "A value is trying to be set on a copy of a slice from a DataFrame.\n",
      "Try using .loc[row_indexer,col_indexer] = value instead\n",
      "\n",
      "See the caveats in the documentation: http://pandas.pydata.org/pandas-docs/stable/indexing.html#indexing-view-versus-copy\n",
      "  \n",
      "C:\\Users\\nicolas\\Anaconda3\\lib\\site-packages\\ipykernel_launcher.py:3: SettingWithCopyWarning: \n",
      "A value is trying to be set on a copy of a slice from a DataFrame.\n",
      "Try using .loc[row_indexer,col_indexer] = value instead\n",
      "\n",
      "See the caveats in the documentation: http://pandas.pydata.org/pandas-docs/stable/indexing.html#indexing-view-versus-copy\n",
      "  This is separate from the ipykernel package so we can avoid doing imports until\n",
      "C:\\Users\\nicolas\\Anaconda3\\lib\\site-packages\\ipykernel_launcher.py:4: SettingWithCopyWarning: \n",
      "A value is trying to be set on a copy of a slice from a DataFrame.\n",
      "Try using .loc[row_indexer,col_indexer] = value instead\n",
      "\n",
      "See the caveats in the documentation: http://pandas.pydata.org/pandas-docs/stable/indexing.html#indexing-view-versus-copy\n",
      "  after removing the cwd from sys.path.\n",
      "C:\\Users\\nicolas\\Anaconda3\\lib\\site-packages\\ipykernel_launcher.py:5: SettingWithCopyWarning: \n",
      "A value is trying to be set on a copy of a slice from a DataFrame.\n",
      "Try using .loc[row_indexer,col_indexer] = value instead\n",
      "\n",
      "See the caveats in the documentation: http://pandas.pydata.org/pandas-docs/stable/indexing.html#indexing-view-versus-copy\n",
      "  \"\"\"\n",
      "C:\\Users\\nicolas\\Anaconda3\\lib\\site-packages\\ipykernel_launcher.py:6: SettingWithCopyWarning: \n",
      "A value is trying to be set on a copy of a slice from a DataFrame.\n",
      "Try using .loc[row_indexer,col_indexer] = value instead\n",
      "\n",
      "See the caveats in the documentation: http://pandas.pydata.org/pandas-docs/stable/indexing.html#indexing-view-versus-copy\n",
      "  \n",
      "C:\\Users\\nicolas\\Anaconda3\\lib\\site-packages\\ipykernel_launcher.py:7: SettingWithCopyWarning: \n",
      "A value is trying to be set on a copy of a slice from a DataFrame.\n",
      "Try using .loc[row_indexer,col_indexer] = value instead\n",
      "\n",
      "See the caveats in the documentation: http://pandas.pydata.org/pandas-docs/stable/indexing.html#indexing-view-versus-copy\n",
      "  import sys\n",
      "C:\\Users\\nicolas\\Anaconda3\\lib\\site-packages\\ipykernel_launcher.py:8: SettingWithCopyWarning: \n",
      "A value is trying to be set on a copy of a slice from a DataFrame.\n",
      "Try using .loc[row_indexer,col_indexer] = value instead\n",
      "\n",
      "See the caveats in the documentation: http://pandas.pydata.org/pandas-docs/stable/indexing.html#indexing-view-versus-copy\n",
      "  \n",
      "C:\\Users\\nicolas\\Anaconda3\\lib\\site-packages\\ipykernel_launcher.py:9: SettingWithCopyWarning: \n",
      "A value is trying to be set on a copy of a slice from a DataFrame.\n",
      "Try using .loc[row_indexer,col_indexer] = value instead\n",
      "\n",
      "See the caveats in the documentation: http://pandas.pydata.org/pandas-docs/stable/indexing.html#indexing-view-versus-copy\n",
      "  if __name__ == '__main__':\n",
      "C:\\Users\\nicolas\\Anaconda3\\lib\\site-packages\\ipykernel_launcher.py:10: SettingWithCopyWarning: \n",
      "A value is trying to be set on a copy of a slice from a DataFrame.\n",
      "Try using .loc[row_indexer,col_indexer] = value instead\n",
      "\n",
      "See the caveats in the documentation: http://pandas.pydata.org/pandas-docs/stable/indexing.html#indexing-view-versus-copy\n",
      "  # Remove the CWD from sys.path while we load stuff.\n",
      "C:\\Users\\nicolas\\Anaconda3\\lib\\site-packages\\ipykernel_launcher.py:11: SettingWithCopyWarning: \n",
      "A value is trying to be set on a copy of a slice from a DataFrame.\n",
      "Try using .loc[row_indexer,col_indexer] = value instead\n",
      "\n",
      "See the caveats in the documentation: http://pandas.pydata.org/pandas-docs/stable/indexing.html#indexing-view-versus-copy\n",
      "  # This is added back by InteractiveShellApp.init_path()\n"
     ]
    }
   ],
   "source": [
    "edh_clean['Sexo'] = edh_clean['Sexo'].map({1 : 'Hombre' ,2 : 'Mujer'})\n",
    "edh_clean['Nacionalidad'] = edh_clean['Nacionalidad'].map({1 : 'Argentino' ,2 : 'Argentino',3:'Argentino',4: 'Extranjero',5 : 'Extranjero'})\n",
    "edh_clean['REGION'] = edh_clean['REGION'].map({1 : 'Gran Buenos Aires' ,40 : 'Noroeste',41:'Nordeste',42: 'Cuyo',43 : 'Pampeana',44:\"Patagónica\"})\n",
    "edh_clean['Estado_Civil'] = edh_clean['Estado_Civil'].map({1 : 'Unido' ,2 : 'Casado',3:'Separado',4: 'Viudo',5 : 'Soltero'})\n",
    "edh_clean['Tipo_de_Cobertura'] = edh_clean['Tipo_de_Cobertura'].map({1 : 'Obra Social' ,2 : 'Mutual/Prepaga',3:'Planes y seguros publicos',4: 'No',12 : 'Servicio de Emergencia'})\n",
    "edh_clean['Sabe_leer_y_escribir?'] = edh_clean['Sabe_leer_y_escribir?'].map({1 : 'Si' ,2 : 'No',3:'Menor de 3 años'})\n",
    "edh_clean['Estudia?'] = edh_clean['Estudia?'].map({1 : 'Si, asiste' ,2 : 'No, pero asistio',3:'Nunca asistio'})\n",
    "edh_clean['Nivel_Educativo'] = edh_clean['Nivel_Educativo'].map({1 : 'Primaria Incompleta' ,2 : 'Primaria Completa', 3:'Secundario Incompleta', 4: 'Secundario Completa',5: 'Universidad Incompleta',6: 'Universidad Completa', 7: 'Sin Instruccion'})\n",
    "edh_clean['ESTADO'] = edh_clean['ESTADO'].map({1 : 'Ocupado' ,2 : 'Desocupado',3:'Inactivo',4:'Menor 10 años'})\n",
    "edh_clean['Categoria_Ocupacional'] = edh_clean['Categoria_Ocupacional'].map({0 : 'Desocupado' ,1 : 'Patron' ,2 : 'Cuenta Propia',3:'Obrebro/Empleado',4:'Trabajador familiar sin remuneracion'})\n",
    "edh_clean['Categoria_Inactividad'] = edh_clean['Categoria_Inactividad'].map({0 : 'Ocupado',1 : 'Jubilado/Pensionado' ,2 : 'Rentista',3:'Estudiante',4:'Ama de Casa', 5:'Menor de 6 años', 6:'Discapacitado', 7:'Otros'})"
   ]
  },
  {
   "cell_type": "code",
   "execution_count": 13,
   "metadata": {},
   "outputs": [
    {
     "data": {
      "text/html": [
       "<div>\n",
       "<style scoped>\n",
       "    .dataframe tbody tr th:only-of-type {\n",
       "        vertical-align: middle;\n",
       "    }\n",
       "\n",
       "    .dataframe tbody tr th {\n",
       "        vertical-align: top;\n",
       "    }\n",
       "\n",
       "    .dataframe thead th {\n",
       "        text-align: right;\n",
       "    }\n",
       "</style>\n",
       "<table border=\"1\" class=\"dataframe\">\n",
       "  <thead>\n",
       "    <tr style=\"text-align: right;\">\n",
       "      <th></th>\n",
       "      <th>REGION</th>\n",
       "      <th>Sexo</th>\n",
       "      <th>Edad</th>\n",
       "      <th>Estado_Civil</th>\n",
       "      <th>Tipo_de_Cobertura</th>\n",
       "      <th>Sabe_leer_y_escribir?</th>\n",
       "      <th>Estudia?</th>\n",
       "      <th>Nacionalidad</th>\n",
       "      <th>Nivel_Educativo</th>\n",
       "      <th>ESTADO</th>\n",
       "      <th>Categoria_Ocupacional</th>\n",
       "      <th>Categoria_Inactividad</th>\n",
       "      <th>Monto_Ingreso_Individual</th>\n",
       "      <th>Monto_Ingreso_Familiar</th>\n",
       "      <th>Monto_Ingreso_Per_Capita</th>\n",
       "      <th>Habitantes_Hogar</th>\n",
       "    </tr>\n",
       "  </thead>\n",
       "  <tbody>\n",
       "    <tr>\n",
       "      <th>0</th>\n",
       "      <td>Nordeste</td>\n",
       "      <td>Mujer</td>\n",
       "      <td>28</td>\n",
       "      <td>Unido</td>\n",
       "      <td>No</td>\n",
       "      <td>Si</td>\n",
       "      <td>No, pero asistio</td>\n",
       "      <td>Argentino</td>\n",
       "      <td>Secundario Completa</td>\n",
       "      <td>Inactivo</td>\n",
       "      <td>Desocupado</td>\n",
       "      <td>Ama de Casa</td>\n",
       "      <td>2000.0</td>\n",
       "      <td>7000</td>\n",
       "      <td>1750</td>\n",
       "      <td>4</td>\n",
       "    </tr>\n",
       "    <tr>\n",
       "      <th>1</th>\n",
       "      <td>Nordeste</td>\n",
       "      <td>Mujer</td>\n",
       "      <td>13</td>\n",
       "      <td>Soltero</td>\n",
       "      <td>No</td>\n",
       "      <td>Si</td>\n",
       "      <td>Si, asiste</td>\n",
       "      <td>Argentino</td>\n",
       "      <td>Secundario Incompleta</td>\n",
       "      <td>Inactivo</td>\n",
       "      <td>Desocupado</td>\n",
       "      <td>Estudiante</td>\n",
       "      <td>0.0</td>\n",
       "      <td>7000</td>\n",
       "      <td>1750</td>\n",
       "      <td>4</td>\n",
       "    </tr>\n",
       "    <tr>\n",
       "      <th>2</th>\n",
       "      <td>Nordeste</td>\n",
       "      <td>Hombre</td>\n",
       "      <td>1</td>\n",
       "      <td>Soltero</td>\n",
       "      <td>No</td>\n",
       "      <td>Menor de 3 años</td>\n",
       "      <td>NaN</td>\n",
       "      <td>Argentino</td>\n",
       "      <td>Sin Instruccion</td>\n",
       "      <td>Menor 10 años</td>\n",
       "      <td>Desocupado</td>\n",
       "      <td>Menor de 6 años</td>\n",
       "      <td>0.0</td>\n",
       "      <td>7000</td>\n",
       "      <td>1750</td>\n",
       "      <td>4</td>\n",
       "    </tr>\n",
       "    <tr>\n",
       "      <th>3</th>\n",
       "      <td>Nordeste</td>\n",
       "      <td>Mujer</td>\n",
       "      <td>41</td>\n",
       "      <td>Soltero</td>\n",
       "      <td>No</td>\n",
       "      <td>Si</td>\n",
       "      <td>No, pero asistio</td>\n",
       "      <td>Argentino</td>\n",
       "      <td>Universidad Incompleta</td>\n",
       "      <td>Ocupado</td>\n",
       "      <td>Obrebro/Empleado</td>\n",
       "      <td>Ocupado</td>\n",
       "      <td>6200.0</td>\n",
       "      <td>6200</td>\n",
       "      <td>3100</td>\n",
       "      <td>2</td>\n",
       "    </tr>\n",
       "    <tr>\n",
       "      <th>4</th>\n",
       "      <td>Nordeste</td>\n",
       "      <td>Mujer</td>\n",
       "      <td>9</td>\n",
       "      <td>Soltero</td>\n",
       "      <td>No</td>\n",
       "      <td>Si</td>\n",
       "      <td>Si, asiste</td>\n",
       "      <td>Argentino</td>\n",
       "      <td>Primaria Incompleta</td>\n",
       "      <td>Menor 10 años</td>\n",
       "      <td>Desocupado</td>\n",
       "      <td>Estudiante</td>\n",
       "      <td>0.0</td>\n",
       "      <td>6200</td>\n",
       "      <td>3100</td>\n",
       "      <td>2</td>\n",
       "    </tr>\n",
       "  </tbody>\n",
       "</table>\n",
       "</div>"
      ],
      "text/plain": [
       "     REGION    Sexo  Edad Estado_Civil Tipo_de_Cobertura  \\\n",
       "0  Nordeste   Mujer    28        Unido                No   \n",
       "1  Nordeste   Mujer    13      Soltero                No   \n",
       "2  Nordeste  Hombre     1      Soltero                No   \n",
       "3  Nordeste   Mujer    41      Soltero                No   \n",
       "4  Nordeste   Mujer     9      Soltero                No   \n",
       "\n",
       "  Sabe_leer_y_escribir?          Estudia? Nacionalidad  \\\n",
       "0                    Si  No, pero asistio    Argentino   \n",
       "1                    Si        Si, asiste    Argentino   \n",
       "2       Menor de 3 años               NaN    Argentino   \n",
       "3                    Si  No, pero asistio    Argentino   \n",
       "4                    Si        Si, asiste    Argentino   \n",
       "\n",
       "          Nivel_Educativo         ESTADO Categoria_Ocupacional  \\\n",
       "0     Secundario Completa       Inactivo            Desocupado   \n",
       "1   Secundario Incompleta       Inactivo            Desocupado   \n",
       "2         Sin Instruccion  Menor 10 años            Desocupado   \n",
       "3  Universidad Incompleta        Ocupado      Obrebro/Empleado   \n",
       "4     Primaria Incompleta  Menor 10 años            Desocupado   \n",
       "\n",
       "  Categoria_Inactividad  Monto_Ingreso_Individual  Monto_Ingreso_Familiar  \\\n",
       "0           Ama de Casa                    2000.0                    7000   \n",
       "1            Estudiante                       0.0                    7000   \n",
       "2       Menor de 6 años                       0.0                    7000   \n",
       "3               Ocupado                    6200.0                    6200   \n",
       "4            Estudiante                       0.0                    6200   \n",
       "\n",
       "   Monto_Ingreso_Per_Capita  Habitantes_Hogar  \n",
       "0                      1750                 4  \n",
       "1                      1750                 4  \n",
       "2                      1750                 4  \n",
       "3                      3100                 2  \n",
       "4                      3100                 2  "
      ]
     },
     "execution_count": 13,
     "metadata": {},
     "output_type": "execute_result"
    }
   ],
   "source": [
    "edh_clean.head()"
   ]
  },
  {
   "cell_type": "code",
   "execution_count": 14,
   "metadata": {},
   "outputs": [
    {
     "data": {
      "text/plain": [
       "REGION                      False\n",
       "Sexo                        False\n",
       "Edad                        False\n",
       "Estado_Civil                 True\n",
       "Tipo_de_Cobertura            True\n",
       "Sabe_leer_y_escribir?       False\n",
       "Estudia?                     True\n",
       "Nacionalidad                 True\n",
       "Nivel_Educativo             False\n",
       "ESTADO                       True\n",
       "Categoria_Ocupacional        True\n",
       "Categoria_Inactividad       False\n",
       "Monto_Ingreso_Individual     True\n",
       "Monto_Ingreso_Familiar      False\n",
       "Monto_Ingreso_Per_Capita    False\n",
       "Habitantes_Hogar            False\n",
       "dtype: bool"
      ]
     },
     "execution_count": 14,
     "metadata": {},
     "output_type": "execute_result"
    }
   ],
   "source": [
    "edh_clean.isnull().any()"
   ]
  },
  {
   "cell_type": "code",
   "execution_count": 15,
   "metadata": {},
   "outputs": [
    {
     "data": {
      "text/plain": [
       "REGION                         0\n",
       "Sexo                           0\n",
       "Edad                           0\n",
       "Estado_Civil                   1\n",
       "Tipo_de_Cobertura             76\n",
       "Sabe_leer_y_escribir?          0\n",
       "Estudia?                    1463\n",
       "Nacionalidad                   8\n",
       "Nivel_Educativo                0\n",
       "ESTADO                       111\n",
       "Categoria_Ocupacional          2\n",
       "Categoria_Inactividad          0\n",
       "Monto_Ingreso_Individual     111\n",
       "Monto_Ingreso_Familiar         0\n",
       "Monto_Ingreso_Per_Capita       0\n",
       "Habitantes_Hogar               0\n",
       "dtype: int64"
      ]
     },
     "execution_count": 15,
     "metadata": {},
     "output_type": "execute_result"
    }
   ],
   "source": [
    "edh_clean.isnull().sum()"
   ]
  },
  {
   "cell_type": "code",
   "execution_count": 16,
   "metadata": {},
   "outputs": [
    {
     "data": {
      "text/html": [
       "<div>\n",
       "<style scoped>\n",
       "    .dataframe tbody tr th:only-of-type {\n",
       "        vertical-align: middle;\n",
       "    }\n",
       "\n",
       "    .dataframe tbody tr th {\n",
       "        vertical-align: top;\n",
       "    }\n",
       "\n",
       "    .dataframe thead th {\n",
       "        text-align: right;\n",
       "    }\n",
       "</style>\n",
       "<table border=\"1\" class=\"dataframe\">\n",
       "  <thead>\n",
       "    <tr style=\"text-align: right;\">\n",
       "      <th></th>\n",
       "      <th>Total</th>\n",
       "      <th>Percent</th>\n",
       "    </tr>\n",
       "  </thead>\n",
       "  <tbody>\n",
       "    <tr>\n",
       "      <th>Estudia?</th>\n",
       "      <td>1463</td>\n",
       "      <td>0.025265</td>\n",
       "    </tr>\n",
       "    <tr>\n",
       "      <th>Monto_Ingreso_Individual</th>\n",
       "      <td>111</td>\n",
       "      <td>0.001873</td>\n",
       "    </tr>\n",
       "    <tr>\n",
       "      <th>ESTADO</th>\n",
       "      <td>111</td>\n",
       "      <td>0.001873</td>\n",
       "    </tr>\n",
       "    <tr>\n",
       "      <th>Tipo_de_Cobertura</th>\n",
       "      <td>76</td>\n",
       "      <td>0.001282</td>\n",
       "    </tr>\n",
       "    <tr>\n",
       "      <th>Nacionalidad</th>\n",
       "      <td>8</td>\n",
       "      <td>0.000135</td>\n",
       "    </tr>\n",
       "    <tr>\n",
       "      <th>Categoria_Ocupacional</th>\n",
       "      <td>2</td>\n",
       "      <td>0.000034</td>\n",
       "    </tr>\n",
       "  </tbody>\n",
       "</table>\n",
       "</div>"
      ],
      "text/plain": [
       "                          Total   Percent\n",
       "Estudia?                   1463  0.025265\n",
       "Monto_Ingreso_Individual    111  0.001873\n",
       "ESTADO                      111  0.001873\n",
       "Tipo_de_Cobertura            76  0.001282\n",
       "Nacionalidad                  8  0.000135\n",
       "Categoria_Ocupacional         2  0.000034"
      ]
     },
     "execution_count": 16,
     "metadata": {},
     "output_type": "execute_result"
    }
   ],
   "source": [
    "total = edh_clean.isnull().sum().sort_values(ascending = False)\n",
    "percent = (edh_clean.isnull().sum()/edh_clean.count()).sort_values(ascending = False)\n",
    "missing_data = pd.concat([total, percent], axis=1, keys=['Total', 'Percent'])\n",
    "missing_data.head(6)"
   ]
  },
  {
   "cell_type": "code",
   "execution_count": 17,
   "metadata": {},
   "outputs": [
    {
     "name": "stderr",
     "output_type": "stream",
     "text": [
      "C:\\Users\\nicolas\\Anaconda3\\lib\\site-packages\\ipykernel_launcher.py:1: SettingWithCopyWarning: \n",
      "A value is trying to be set on a copy of a slice from a DataFrame\n",
      "\n",
      "See the caveats in the documentation: http://pandas.pydata.org/pandas-docs/stable/indexing.html#indexing-view-versus-copy\n",
      "  \"\"\"Entry point for launching an IPython kernel.\n"
     ]
    }
   ],
   "source": [
    "edh_clean.dropna(how ='any', inplace = True)"
   ]
  },
  {
   "cell_type": "code",
   "execution_count": 18,
   "metadata": {},
   "outputs": [
    {
     "data": {
      "text/plain": [
       "(57713, 16)"
      ]
     },
     "execution_count": 18,
     "metadata": {},
     "output_type": "execute_result"
    }
   ],
   "source": [
    "edh_clean.shape"
   ]
  },
  {
   "cell_type": "code",
   "execution_count": 19,
   "metadata": {},
   "outputs": [],
   "source": [
    "edh_clean = edh_clean[edh_clean.Monto_Ingreso_Familiar != 0]"
   ]
  },
  {
   "cell_type": "code",
   "execution_count": 20,
   "metadata": {},
   "outputs": [
    {
     "data": {
      "text/plain": [
       "(46501, 16)"
      ]
     },
     "execution_count": 20,
     "metadata": {},
     "output_type": "execute_result"
    }
   ],
   "source": [
    "edh_clean.shape"
   ]
  },
  {
   "cell_type": "code",
   "execution_count": 21,
   "metadata": {},
   "outputs": [
    {
     "data": {
      "text/plain": [
       "array(['Secundario Completa', 'Secundario Incompleta',\n",
       "       'Universidad Incompleta', 'Primaria Incompleta',\n",
       "       'Universidad Completa', 'Sin Instruccion', 'Primaria Completa'],\n",
       "      dtype=object)"
      ]
     },
     "execution_count": 21,
     "metadata": {},
     "output_type": "execute_result"
    }
   ],
   "source": [
    "edh_clean.Nivel_Educativo.unique()"
   ]
  },
  {
   "cell_type": "code",
   "execution_count": 22,
   "metadata": {},
   "outputs": [
    {
     "data": {
      "image/png": "[encoded data removed]",
      "text/plain": [
       "<Figure size 720x720 with 2 Axes>"
      ]
     },
     "metadata": {
      "needs_background": "light"
     },
     "output_type": "display_data"
    }
   ],
   "source": [
    "corrmat = edh_clean.corr()\n",
    "#f, ax = plt.subplots()\n",
    "plt.figure(figsize=(10,10))\n",
    "p =sns.heatmap(corrmat, annot=True, cmap=sns.diverging_palette(220, 20, as_cmap=True))"
   ]
  },
  {
   "cell_type": "code",
   "execution_count": 23,
   "metadata": {},
   "outputs": [
    {
     "data": {
      "image/png": "[encoded data removed]",
      "text/plain": [
       "<Figure size 432x288 with 1 Axes>"
      ]
     },
     "metadata": {
      "needs_background": "light"
     },
     "output_type": "display_data"
    },
    {
     "data": {
      "image/png": "[encoded data removed]",
      "text/plain": [
       "<Figure size 432x288 with 1 Axes>"
      ]
     },
     "metadata": {
      "needs_background": "light"
     },
     "output_type": "display_data"
    }
   ],
   "source": [
    "edh_clean[\"Log_Monto_Ingreso_Individual\"] = np.log(1+edh_clean.Monto_Ingreso_Familiar)\n",
    "\n",
    "\n",
    "#Plot Precio\n",
    "sns.kdeplot(edh_clean.Monto_Ingreso_Familiar, shade = True)\n",
    "plt.xlabel(\"Ingreso\")\n",
    "plt.xticks(rotation=90)\n",
    "plt.title('Distribucion de Ingreso',size = 20)\n",
    "plt.show()\n",
    "\n",
    "#Plot Log-Precio\n",
    "sns.distplot(edh_clean.Log_Monto_Ingreso_Individual)\n",
    "plt.title('Distribucion de Ingreso Logaritmico',size = 20)\n",
    "plt.xlabel(\"Ingreso\")\n",
    "plt.show()"
   ]
  },
  {
   "cell_type": "code",
   "execution_count": 24,
   "metadata": {},
   "outputs": [
    {
     "data": {
      "image/png": "[encoded data removed]",
      "text/plain": [
       "<Figure size 1080x360 with 1 Axes>"
      ]
     },
     "metadata": {
      "needs_background": "light"
     },
     "output_type": "display_data"
    }
   ],
   "source": [
    "g = sns.catplot(y = \"Log_Monto_Ingreso_Individual\", x =\"Nivel_Educativo\" , data= edh_clean, kind=\"box\", height = 5,aspect=3 ,palette = \"muted\", order = [\"Primaria Incompleta\", \"Primaria Completa\", \"Secundario Incompleta\", \"Sin Instruccion\", \"Secundario Completa\", \"Universidad Incompleta\", \"Universidad Completa\"])\n",
    "g.despine(left=True)\n",
    "g.set_xticklabels(rotation=10)\n",
    "plt.xlabel(\"Educacion\")\n",
    "plt.ylabel(\"Ingreso\")\n",
    "plt.title('Ingreso segun Educacion',size = 12)\n",
    "plt.show()"
   ]
  },
  {
   "cell_type": "code",
   "execution_count": 25,
   "metadata": {},
   "outputs": [],
   "source": [
    "edh_clean.loc[(edh_clean['Edad'] > 0) & (edh_clean['Edad'] <= 18), 'Age_Band'] = \"<18\"\n",
    "edh_clean.loc[(edh_clean['Edad'] > 18) & (edh_clean['Edad'] <= 25), 'Age_Band']   = \"18-25\"\n",
    "edh_clean.loc[(edh_clean['Edad'] > 25) & (edh_clean['Edad'] <= 40), 'Age_Band']   = \"25-40\"\n",
    "edh_clean.loc[(edh_clean['Edad'] > 40) & (edh_clean['Edad'] <= 60), 'Age_Band']   = \"40-60\"\n",
    "edh_clean.loc[(edh_clean['Edad'] > 60, 'Age_Band')] = \">60\""
   ]
  },
  {
   "cell_type": "code",
   "execution_count": 26,
   "metadata": {},
   "outputs": [
    {
     "data": {
      "image/png": "[encoded data removed]",
      "text/plain": [
       "<Figure size 1080x360 with 1 Axes>"
      ]
     },
     "metadata": {
      "needs_background": "light"
     },
     "output_type": "display_data"
    }
   ],
   "source": [
    "g = sns.catplot(y = \"Log_Monto_Ingreso_Individual\", x =\"Age_Band\" , data= edh_clean, kind=\"box\", height = 5,aspect=3 ,palette = \"muted\", order = [\"<18\", \">60\", \"18-25\", \"25-40\", \"40-60\"])\n",
    "g.despine(left=True)\n",
    "plt.xlabel(\"Educacion\")\n",
    "plt.ylabel(\"Ingreso\")\n",
    "plt.title('Plot de Ingreso vs Bandas Edad',size = 12)\n",
    "plt.show()"
   ]
  },
  {
   "cell_type": "code",
   "execution_count": 27,
   "metadata": {},
   "outputs": [],
   "source": [
    "edh_clean.loc[(edh_clean['Monto_Ingreso_Familiar'] > 0) & (edh_clean['Monto_Ingreso_Familiar'] <= 20000), 'Clase_Social'] = \"D2/E\"\n",
    "edh_clean.loc[(edh_clean['Monto_Ingreso_Familiar'] > 20000) & (edh_clean['Monto_Ingreso_Familiar'] <= 30000), 'Clase_Social']   = \"D1\"\n",
    "edh_clean.loc[(edh_clean['Monto_Ingreso_Familiar'] > 30000) & (edh_clean['Monto_Ingreso_Familiar'] <= 50000), 'Clase_Social']   = \"C3\"\n",
    "edh_clean.loc[(edh_clean['Monto_Ingreso_Familiar'] > 50000) & (edh_clean['Monto_Ingreso_Familiar'] <= 130000), 'Clase_Social']   = \"C2\"\n",
    "edh_clean.loc[(edh_clean['Monto_Ingreso_Familiar'] > 130000, 'Clase_Social')] = \"ABC1\""
   ]
  },
  {
   "cell_type": "code",
   "execution_count": 28,
   "metadata": {},
   "outputs": [],
   "source": [
    "edh_clean[\"Persona\"] = (1)"
   ]
  },
  {
   "cell_type": "code",
   "execution_count": 29,
   "metadata": {},
   "outputs": [
    {
     "data": {
      "text/html": [
       "<div>\n",
       "<style scoped>\n",
       "    .dataframe tbody tr th:only-of-type {\n",
       "        vertical-align: middle;\n",
       "    }\n",
       "\n",
       "    .dataframe tbody tr th {\n",
       "        vertical-align: top;\n",
       "    }\n",
       "\n",
       "    .dataframe thead tr th {\n",
       "        text-align: left;\n",
       "    }\n",
       "\n",
       "    .dataframe thead tr:last-of-type th {\n",
       "        text-align: right;\n",
       "    }\n",
       "</style>\n",
       "<table border=\"1\" class=\"dataframe\">\n",
       "  <thead>\n",
       "    <tr>\n",
       "      <th></th>\n",
       "      <th colspan=\"5\" halign=\"left\">Persona</th>\n",
       "    </tr>\n",
       "    <tr>\n",
       "      <th>Clase_Social</th>\n",
       "      <th>ABC1</th>\n",
       "      <th>C2</th>\n",
       "      <th>C3</th>\n",
       "      <th>D1</th>\n",
       "      <th>D2/E</th>\n",
       "    </tr>\n",
       "    <tr>\n",
       "      <th>REGION</th>\n",
       "      <th></th>\n",
       "      <th></th>\n",
       "      <th></th>\n",
       "      <th></th>\n",
       "      <th></th>\n",
       "    </tr>\n",
       "  </thead>\n",
       "  <tbody>\n",
       "    <tr>\n",
       "      <th>Cuyo</th>\n",
       "      <td>60</td>\n",
       "      <td>1136</td>\n",
       "      <td>1530</td>\n",
       "      <td>1023</td>\n",
       "      <td>1263</td>\n",
       "    </tr>\n",
       "    <tr>\n",
       "      <th>Gran Buenos Aires</th>\n",
       "      <td>191</td>\n",
       "      <td>1686</td>\n",
       "      <td>1705</td>\n",
       "      <td>1212</td>\n",
       "      <td>1711</td>\n",
       "    </tr>\n",
       "    <tr>\n",
       "      <th>Nordeste</th>\n",
       "      <td>48</td>\n",
       "      <td>786</td>\n",
       "      <td>1113</td>\n",
       "      <td>1090</td>\n",
       "      <td>1837</td>\n",
       "    </tr>\n",
       "    <tr>\n",
       "      <th>Noroeste</th>\n",
       "      <td>136</td>\n",
       "      <td>2385</td>\n",
       "      <td>3068</td>\n",
       "      <td>2598</td>\n",
       "      <td>2863</td>\n",
       "    </tr>\n",
       "    <tr>\n",
       "      <th>Pampeana</th>\n",
       "      <td>209</td>\n",
       "      <td>2931</td>\n",
       "      <td>3564</td>\n",
       "      <td>2632</td>\n",
       "      <td>3783</td>\n",
       "    </tr>\n",
       "    <tr>\n",
       "      <th>Patagónica</th>\n",
       "      <td>149</td>\n",
       "      <td>2029</td>\n",
       "      <td>1857</td>\n",
       "      <td>909</td>\n",
       "      <td>997</td>\n",
       "    </tr>\n",
       "  </tbody>\n",
       "</table>\n",
       "</div>"
      ],
      "text/plain": [
       "                  Persona                        \n",
       "Clase_Social         ABC1    C2    C3    D1  D2/E\n",
       "REGION                                           \n",
       "Cuyo                   60  1136  1530  1023  1263\n",
       "Gran Buenos Aires     191  1686  1705  1212  1711\n",
       "Nordeste               48   786  1113  1090  1837\n",
       "Noroeste              136  2385  3068  2598  2863\n",
       "Pampeana              209  2931  3564  2632  3783\n",
       "Patagónica            149  2029  1857   909   997"
      ]
     },
     "execution_count": 29,
     "metadata": {},
     "output_type": "execute_result"
    }
   ],
   "source": [
    "Monto_Individual_Agr = pd.pivot_table(edh_clean,values = ['Persona'], columns =  edh_clean.Clase_Social ,index = [edh_clean.REGION] , aggfunc = np.sum)\n",
    "Monto_Individual_Agr"
   ]
  },
  {
   "cell_type": "code",
   "execution_count": 30,
   "metadata": {},
   "outputs": [
    {
     "data": {
      "image/png": "[encoded data removed]",
      "text/plain": [
       "<Figure size 1440x720 with 1 Axes>"
      ]
     },
     "metadata": {
      "needs_background": "light"
     },
     "output_type": "display_data"
    }
   ],
   "source": [
    "Monto_Individual_Agr.plot(kind='bar', figsize = (20,10), stacked = True)\n",
    "plt.title(\"Clase social por Region\")\n",
    "plt.xticks(rotation=0)\n",
    "plt.legend(loc = (1,1))\n",
    "plt.show()"
   ]
  },
  {
   "cell_type": "code",
   "execution_count": 31,
   "metadata": {},
   "outputs": [
    {
     "data": {
      "text/html": [
       "<div>\n",
       "<style scoped>\n",
       "    .dataframe tbody tr th:only-of-type {\n",
       "        vertical-align: middle;\n",
       "    }\n",
       "\n",
       "    .dataframe tbody tr th {\n",
       "        vertical-align: top;\n",
       "    }\n",
       "\n",
       "    .dataframe thead th {\n",
       "        text-align: right;\n",
       "    }\n",
       "</style>\n",
       "<table border=\"1\" class=\"dataframe\">\n",
       "  <thead>\n",
       "    <tr style=\"text-align: right;\">\n",
       "      <th></th>\n",
       "      <th>REGION</th>\n",
       "      <th>Sexo</th>\n",
       "      <th>Edad</th>\n",
       "      <th>Estado_Civil</th>\n",
       "      <th>Tipo_de_Cobertura</th>\n",
       "      <th>Sabe_leer_y_escribir?</th>\n",
       "      <th>Estudia?</th>\n",
       "      <th>Nacionalidad</th>\n",
       "      <th>Nivel_Educativo</th>\n",
       "      <th>ESTADO</th>\n",
       "      <th>Categoria_Ocupacional</th>\n",
       "      <th>Categoria_Inactividad</th>\n",
       "      <th>Monto_Ingreso_Individual</th>\n",
       "      <th>Monto_Ingreso_Familiar</th>\n",
       "      <th>Monto_Ingreso_Per_Capita</th>\n",
       "      <th>Habitantes_Hogar</th>\n",
       "      <th>Log_Monto_Ingreso_Individual</th>\n",
       "      <th>Age_Band</th>\n",
       "      <th>Clase_Social</th>\n",
       "      <th>Persona</th>\n",
       "    </tr>\n",
       "  </thead>\n",
       "  <tbody>\n",
       "    <tr>\n",
       "      <th>0</th>\n",
       "      <td>Nordeste</td>\n",
       "      <td>Mujer</td>\n",
       "      <td>28</td>\n",
       "      <td>Unido</td>\n",
       "      <td>No</td>\n",
       "      <td>Si</td>\n",
       "      <td>No, pero asistio</td>\n",
       "      <td>Argentino</td>\n",
       "      <td>Secundario Completa</td>\n",
       "      <td>Inactivo</td>\n",
       "      <td>Desocupado</td>\n",
       "      <td>Ama de Casa</td>\n",
       "      <td>2000.0</td>\n",
       "      <td>7000</td>\n",
       "      <td>1750</td>\n",
       "      <td>4</td>\n",
       "      <td>8.853808</td>\n",
       "      <td>25-40</td>\n",
       "      <td>D2/E</td>\n",
       "      <td>1</td>\n",
       "    </tr>\n",
       "    <tr>\n",
       "      <th>1</th>\n",
       "      <td>Nordeste</td>\n",
       "      <td>Mujer</td>\n",
       "      <td>13</td>\n",
       "      <td>Soltero</td>\n",
       "      <td>No</td>\n",
       "      <td>Si</td>\n",
       "      <td>Si, asiste</td>\n",
       "      <td>Argentino</td>\n",
       "      <td>Secundario Incompleta</td>\n",
       "      <td>Inactivo</td>\n",
       "      <td>Desocupado</td>\n",
       "      <td>Estudiante</td>\n",
       "      <td>0.0</td>\n",
       "      <td>7000</td>\n",
       "      <td>1750</td>\n",
       "      <td>4</td>\n",
       "      <td>8.853808</td>\n",
       "      <td>&lt;18</td>\n",
       "      <td>D2/E</td>\n",
       "      <td>1</td>\n",
       "    </tr>\n",
       "    <tr>\n",
       "      <th>3</th>\n",
       "      <td>Nordeste</td>\n",
       "      <td>Mujer</td>\n",
       "      <td>41</td>\n",
       "      <td>Soltero</td>\n",
       "      <td>No</td>\n",
       "      <td>Si</td>\n",
       "      <td>No, pero asistio</td>\n",
       "      <td>Argentino</td>\n",
       "      <td>Universidad Incompleta</td>\n",
       "      <td>Ocupado</td>\n",
       "      <td>Obrebro/Empleado</td>\n",
       "      <td>Ocupado</td>\n",
       "      <td>6200.0</td>\n",
       "      <td>6200</td>\n",
       "      <td>3100</td>\n",
       "      <td>2</td>\n",
       "      <td>8.732466</td>\n",
       "      <td>40-60</td>\n",
       "      <td>D2/E</td>\n",
       "      <td>1</td>\n",
       "    </tr>\n",
       "    <tr>\n",
       "      <th>4</th>\n",
       "      <td>Nordeste</td>\n",
       "      <td>Mujer</td>\n",
       "      <td>9</td>\n",
       "      <td>Soltero</td>\n",
       "      <td>No</td>\n",
       "      <td>Si</td>\n",
       "      <td>Si, asiste</td>\n",
       "      <td>Argentino</td>\n",
       "      <td>Primaria Incompleta</td>\n",
       "      <td>Menor 10 años</td>\n",
       "      <td>Desocupado</td>\n",
       "      <td>Estudiante</td>\n",
       "      <td>0.0</td>\n",
       "      <td>6200</td>\n",
       "      <td>3100</td>\n",
       "      <td>2</td>\n",
       "      <td>8.732466</td>\n",
       "      <td>&lt;18</td>\n",
       "      <td>D2/E</td>\n",
       "      <td>1</td>\n",
       "    </tr>\n",
       "    <tr>\n",
       "      <th>5</th>\n",
       "      <td>Nordeste</td>\n",
       "      <td>Hombre</td>\n",
       "      <td>51</td>\n",
       "      <td>Separado</td>\n",
       "      <td>No</td>\n",
       "      <td>Si</td>\n",
       "      <td>No, pero asistio</td>\n",
       "      <td>Argentino</td>\n",
       "      <td>Primaria Incompleta</td>\n",
       "      <td>Ocupado</td>\n",
       "      <td>Cuenta Propia</td>\n",
       "      <td>Ocupado</td>\n",
       "      <td>8000.0</td>\n",
       "      <td>8000</td>\n",
       "      <td>8000</td>\n",
       "      <td>1</td>\n",
       "      <td>8.987322</td>\n",
       "      <td>40-60</td>\n",
       "      <td>D2/E</td>\n",
       "      <td>1</td>\n",
       "    </tr>\n",
       "  </tbody>\n",
       "</table>\n",
       "</div>"
      ],
      "text/plain": [
       "     REGION    Sexo  Edad Estado_Civil Tipo_de_Cobertura  \\\n",
       "0  Nordeste   Mujer    28        Unido                No   \n",
       "1  Nordeste   Mujer    13      Soltero                No   \n",
       "3  Nordeste   Mujer    41      Soltero                No   \n",
       "4  Nordeste   Mujer     9      Soltero                No   \n",
       "5  Nordeste  Hombre    51     Separado                No   \n",
       "\n",
       "  Sabe_leer_y_escribir?          Estudia? Nacionalidad  \\\n",
       "0                    Si  No, pero asistio    Argentino   \n",
       "1                    Si        Si, asiste    Argentino   \n",
       "3                    Si  No, pero asistio    Argentino   \n",
       "4                    Si        Si, asiste    Argentino   \n",
       "5                    Si  No, pero asistio    Argentino   \n",
       "\n",
       "          Nivel_Educativo         ESTADO Categoria_Ocupacional  \\\n",
       "0     Secundario Completa       Inactivo            Desocupado   \n",
       "1   Secundario Incompleta       Inactivo            Desocupado   \n",
       "3  Universidad Incompleta        Ocupado      Obrebro/Empleado   \n",
       "4     Primaria Incompleta  Menor 10 años            Desocupado   \n",
       "5     Primaria Incompleta        Ocupado         Cuenta Propia   \n",
       "\n",
       "  Categoria_Inactividad  Monto_Ingreso_Individual  Monto_Ingreso_Familiar  \\\n",
       "0           Ama de Casa                    2000.0                    7000   \n",
       "1            Estudiante                       0.0                    7000   \n",
       "3               Ocupado                    6200.0                    6200   \n",
       "4            Estudiante                       0.0                    6200   \n",
       "5               Ocupado                    8000.0                    8000   \n",
       "\n",
       "   Monto_Ingreso_Per_Capita  Habitantes_Hogar  Log_Monto_Ingreso_Individual  \\\n",
       "0                      1750                 4                      8.853808   \n",
       "1                      1750                 4                      8.853808   \n",
       "3                      3100                 2                      8.732466   \n",
       "4                      3100                 2                      8.732466   \n",
       "5                      8000                 1                      8.987322   \n",
       "\n",
       "  Age_Band Clase_Social  Persona  \n",
       "0    25-40         D2/E        1  \n",
       "1      <18         D2/E        1  \n",
       "3    40-60         D2/E        1  \n",
       "4      <18         D2/E        1  \n",
       "5    40-60         D2/E        1  "
      ]
     },
     "execution_count": 31,
     "metadata": {},
     "output_type": "execute_result"
    }
   ],
   "source": [
    "edh_clean.head()"
   ]
  },
  {
   "cell_type": "code",
   "execution_count": 32,
   "metadata": {},
   "outputs": [
    {
     "data": {
      "text/html": [
       "<div>\n",
       "<style scoped>\n",
       "    .dataframe tbody tr th:only-of-type {\n",
       "        vertical-align: middle;\n",
       "    }\n",
       "\n",
       "    .dataframe tbody tr th {\n",
       "        vertical-align: top;\n",
       "    }\n",
       "\n",
       "    .dataframe thead tr th {\n",
       "        text-align: left;\n",
       "    }\n",
       "\n",
       "    .dataframe thead tr:last-of-type th {\n",
       "        text-align: right;\n",
       "    }\n",
       "</style>\n",
       "<table border=\"1\" class=\"dataframe\">\n",
       "  <thead>\n",
       "    <tr>\n",
       "      <th></th>\n",
       "      <th colspan=\"5\" halign=\"left\">Persona</th>\n",
       "    </tr>\n",
       "    <tr>\n",
       "      <th>Clase_Social</th>\n",
       "      <th>ABC1</th>\n",
       "      <th>C2</th>\n",
       "      <th>C3</th>\n",
       "      <th>D1</th>\n",
       "      <th>D2/E</th>\n",
       "    </tr>\n",
       "    <tr>\n",
       "      <th>Nivel_Educativo</th>\n",
       "      <th></th>\n",
       "      <th></th>\n",
       "      <th></th>\n",
       "      <th></th>\n",
       "      <th></th>\n",
       "    </tr>\n",
       "  </thead>\n",
       "  <tbody>\n",
       "    <tr>\n",
       "      <th>Primaria Completa</th>\n",
       "      <td>22</td>\n",
       "      <td>949</td>\n",
       "      <td>1599</td>\n",
       "      <td>1468</td>\n",
       "      <td>2104</td>\n",
       "    </tr>\n",
       "    <tr>\n",
       "      <th>Primaria Incompleta</th>\n",
       "      <td>91</td>\n",
       "      <td>1263</td>\n",
       "      <td>1816</td>\n",
       "      <td>1591</td>\n",
       "      <td>2443</td>\n",
       "    </tr>\n",
       "    <tr>\n",
       "      <th>Secundario Completa</th>\n",
       "      <td>108</td>\n",
       "      <td>2200</td>\n",
       "      <td>2813</td>\n",
       "      <td>1913</td>\n",
       "      <td>2126</td>\n",
       "    </tr>\n",
       "    <tr>\n",
       "      <th>Secundario Incompleta</th>\n",
       "      <td>86</td>\n",
       "      <td>1907</td>\n",
       "      <td>2755</td>\n",
       "      <td>2226</td>\n",
       "      <td>3135</td>\n",
       "    </tr>\n",
       "    <tr>\n",
       "      <th>Sin Instruccion</th>\n",
       "      <td>45</td>\n",
       "      <td>593</td>\n",
       "      <td>814</td>\n",
       "      <td>613</td>\n",
       "      <td>925</td>\n",
       "    </tr>\n",
       "    <tr>\n",
       "      <th>Universidad Completa</th>\n",
       "      <td>326</td>\n",
       "      <td>2455</td>\n",
       "      <td>1531</td>\n",
       "      <td>682</td>\n",
       "      <td>510</td>\n",
       "    </tr>\n",
       "    <tr>\n",
       "      <th>Universidad Incompleta</th>\n",
       "      <td>115</td>\n",
       "      <td>1586</td>\n",
       "      <td>1509</td>\n",
       "      <td>971</td>\n",
       "      <td>1211</td>\n",
       "    </tr>\n",
       "  </tbody>\n",
       "</table>\n",
       "</div>"
      ],
      "text/plain": [
       "                       Persona                        \n",
       "Clase_Social              ABC1    C2    C3    D1  D2/E\n",
       "Nivel_Educativo                                       \n",
       "Primaria Completa           22   949  1599  1468  2104\n",
       "Primaria Incompleta         91  1263  1816  1591  2443\n",
       "Secundario Completa        108  2200  2813  1913  2126\n",
       "Secundario Incompleta       86  1907  2755  2226  3135\n",
       "Sin Instruccion             45   593   814   613   925\n",
       "Universidad Completa       326  2455  1531   682   510\n",
       "Universidad Incompleta     115  1586  1509   971  1211"
      ]
     },
     "execution_count": 32,
     "metadata": {},
     "output_type": "execute_result"
    }
   ],
   "source": [
    "Cant_Hab = pd.pivot_table(edh_clean,values = ['Persona'], columns =  edh_clean.Clase_Social ,index = [edh_clean.Nivel_Educativo] , aggfunc = np.sum)\n",
    "Cant_Hab"
   ]
  },
  {
   "cell_type": "code",
   "execution_count": 33,
   "metadata": {},
   "outputs": [
    {
     "data": {
      "image/png": "[encoded data removed]",
      "text/plain": [
       "<Figure size 1440x720 with 1 Axes>"
      ]
     },
     "metadata": {
      "needs_background": "light"
     },
     "output_type": "display_data"
    }
   ],
   "source": [
    "Cant_Hab.plot(kind='bar', figsize = (20,10), stacked = True)\n",
    "plt.title(\"Clase Social por educacion\")\n",
    "plt.legend(loc = (1,1))\n",
    "plt.show()"
   ]
  },
  {
   "cell_type": "code",
   "execution_count": 34,
   "metadata": {},
   "outputs": [
    {
     "data": {
      "text/plain": [
       "(46501, 20)"
      ]
     },
     "execution_count": 34,
     "metadata": {},
     "output_type": "execute_result"
    }
   ],
   "source": [
    "edh_clean.shape"
   ]
  },
  {
   "cell_type": "code",
   "execution_count": 35,
   "metadata": {},
   "outputs": [
    {
     "data": {
      "text/html": [
       "<div>\n",
       "<style scoped>\n",
       "    .dataframe tbody tr th:only-of-type {\n",
       "        vertical-align: middle;\n",
       "    }\n",
       "\n",
       "    .dataframe tbody tr th {\n",
       "        vertical-align: top;\n",
       "    }\n",
       "\n",
       "    .dataframe thead th {\n",
       "        text-align: right;\n",
       "    }\n",
       "</style>\n",
       "<table border=\"1\" class=\"dataframe\">\n",
       "  <thead>\n",
       "    <tr style=\"text-align: right;\">\n",
       "      <th></th>\n",
       "      <th>REGION</th>\n",
       "      <th>Sexo</th>\n",
       "      <th>Edad</th>\n",
       "      <th>Estado_Civil</th>\n",
       "      <th>Tipo_de_Cobertura</th>\n",
       "      <th>Sabe_leer_y_escribir?</th>\n",
       "      <th>Estudia?</th>\n",
       "      <th>Nacionalidad</th>\n",
       "      <th>Nivel_Educativo</th>\n",
       "      <th>ESTADO</th>\n",
       "      <th>Categoria_Ocupacional</th>\n",
       "      <th>Categoria_Inactividad</th>\n",
       "      <th>Monto_Ingreso_Individual</th>\n",
       "      <th>Monto_Ingreso_Familiar</th>\n",
       "      <th>Monto_Ingreso_Per_Capita</th>\n",
       "      <th>Habitantes_Hogar</th>\n",
       "      <th>Log_Monto_Ingreso_Individual</th>\n",
       "      <th>Age_Band</th>\n",
       "      <th>Clase_Social</th>\n",
       "      <th>Persona</th>\n",
       "    </tr>\n",
       "  </thead>\n",
       "  <tbody>\n",
       "    <tr>\n",
       "      <th>0</th>\n",
       "      <td>Nordeste</td>\n",
       "      <td>Mujer</td>\n",
       "      <td>28</td>\n",
       "      <td>Unido</td>\n",
       "      <td>No</td>\n",
       "      <td>Si</td>\n",
       "      <td>No, pero asistio</td>\n",
       "      <td>Argentino</td>\n",
       "      <td>Secundario Completa</td>\n",
       "      <td>Inactivo</td>\n",
       "      <td>Desocupado</td>\n",
       "      <td>Ama de Casa</td>\n",
       "      <td>2000.0</td>\n",
       "      <td>7000</td>\n",
       "      <td>1750</td>\n",
       "      <td>4</td>\n",
       "      <td>8.853808</td>\n",
       "      <td>25-40</td>\n",
       "      <td>D2/E</td>\n",
       "      <td>1</td>\n",
       "    </tr>\n",
       "    <tr>\n",
       "      <th>1</th>\n",
       "      <td>Nordeste</td>\n",
       "      <td>Mujer</td>\n",
       "      <td>13</td>\n",
       "      <td>Soltero</td>\n",
       "      <td>No</td>\n",
       "      <td>Si</td>\n",
       "      <td>Si, asiste</td>\n",
       "      <td>Argentino</td>\n",
       "      <td>Secundario Incompleta</td>\n",
       "      <td>Inactivo</td>\n",
       "      <td>Desocupado</td>\n",
       "      <td>Estudiante</td>\n",
       "      <td>0.0</td>\n",
       "      <td>7000</td>\n",
       "      <td>1750</td>\n",
       "      <td>4</td>\n",
       "      <td>8.853808</td>\n",
       "      <td>&lt;18</td>\n",
       "      <td>D2/E</td>\n",
       "      <td>1</td>\n",
       "    </tr>\n",
       "    <tr>\n",
       "      <th>3</th>\n",
       "      <td>Nordeste</td>\n",
       "      <td>Mujer</td>\n",
       "      <td>41</td>\n",
       "      <td>Soltero</td>\n",
       "      <td>No</td>\n",
       "      <td>Si</td>\n",
       "      <td>No, pero asistio</td>\n",
       "      <td>Argentino</td>\n",
       "      <td>Universidad Incompleta</td>\n",
       "      <td>Ocupado</td>\n",
       "      <td>Obrebro/Empleado</td>\n",
       "      <td>Ocupado</td>\n",
       "      <td>6200.0</td>\n",
       "      <td>6200</td>\n",
       "      <td>3100</td>\n",
       "      <td>2</td>\n",
       "      <td>8.732466</td>\n",
       "      <td>40-60</td>\n",
       "      <td>D2/E</td>\n",
       "      <td>1</td>\n",
       "    </tr>\n",
       "    <tr>\n",
       "      <th>4</th>\n",
       "      <td>Nordeste</td>\n",
       "      <td>Mujer</td>\n",
       "      <td>9</td>\n",
       "      <td>Soltero</td>\n",
       "      <td>No</td>\n",
       "      <td>Si</td>\n",
       "      <td>Si, asiste</td>\n",
       "      <td>Argentino</td>\n",
       "      <td>Primaria Incompleta</td>\n",
       "      <td>Menor 10 años</td>\n",
       "      <td>Desocupado</td>\n",
       "      <td>Estudiante</td>\n",
       "      <td>0.0</td>\n",
       "      <td>6200</td>\n",
       "      <td>3100</td>\n",
       "      <td>2</td>\n",
       "      <td>8.732466</td>\n",
       "      <td>&lt;18</td>\n",
       "      <td>D2/E</td>\n",
       "      <td>1</td>\n",
       "    </tr>\n",
       "    <tr>\n",
       "      <th>5</th>\n",
       "      <td>Nordeste</td>\n",
       "      <td>Hombre</td>\n",
       "      <td>51</td>\n",
       "      <td>Separado</td>\n",
       "      <td>No</td>\n",
       "      <td>Si</td>\n",
       "      <td>No, pero asistio</td>\n",
       "      <td>Argentino</td>\n",
       "      <td>Primaria Incompleta</td>\n",
       "      <td>Ocupado</td>\n",
       "      <td>Cuenta Propia</td>\n",
       "      <td>Ocupado</td>\n",
       "      <td>8000.0</td>\n",
       "      <td>8000</td>\n",
       "      <td>8000</td>\n",
       "      <td>1</td>\n",
       "      <td>8.987322</td>\n",
       "      <td>40-60</td>\n",
       "      <td>D2/E</td>\n",
       "      <td>1</td>\n",
       "    </tr>\n",
       "  </tbody>\n",
       "</table>\n",
       "</div>"
      ],
      "text/plain": [
       "     REGION    Sexo  Edad Estado_Civil Tipo_de_Cobertura  \\\n",
       "0  Nordeste   Mujer    28        Unido                No   \n",
       "1  Nordeste   Mujer    13      Soltero                No   \n",
       "3  Nordeste   Mujer    41      Soltero                No   \n",
       "4  Nordeste   Mujer     9      Soltero                No   \n",
       "5  Nordeste  Hombre    51     Separado                No   \n",
       "\n",
       "  Sabe_leer_y_escribir?          Estudia? Nacionalidad  \\\n",
       "0                    Si  No, pero asistio    Argentino   \n",
       "1                    Si        Si, asiste    Argentino   \n",
       "3                    Si  No, pero asistio    Argentino   \n",
       "4                    Si        Si, asiste    Argentino   \n",
       "5                    Si  No, pero asistio    Argentino   \n",
       "\n",
       "          Nivel_Educativo         ESTADO Categoria_Ocupacional  \\\n",
       "0     Secundario Completa       Inactivo            Desocupado   \n",
       "1   Secundario Incompleta       Inactivo            Desocupado   \n",
       "3  Universidad Incompleta        Ocupado      Obrebro/Empleado   \n",
       "4     Primaria Incompleta  Menor 10 años            Desocupado   \n",
       "5     Primaria Incompleta        Ocupado         Cuenta Propia   \n",
       "\n",
       "  Categoria_Inactividad  Monto_Ingreso_Individual  Monto_Ingreso_Familiar  \\\n",
       "0           Ama de Casa                    2000.0                    7000   \n",
       "1            Estudiante                       0.0                    7000   \n",
       "3               Ocupado                    6200.0                    6200   \n",
       "4            Estudiante                       0.0                    6200   \n",
       "5               Ocupado                    8000.0                    8000   \n",
       "\n",
       "   Monto_Ingreso_Per_Capita  Habitantes_Hogar  Log_Monto_Ingreso_Individual  \\\n",
       "0                      1750                 4                      8.853808   \n",
       "1                      1750                 4                      8.853808   \n",
       "3                      3100                 2                      8.732466   \n",
       "4                      3100                 2                      8.732466   \n",
       "5                      8000                 1                      8.987322   \n",
       "\n",
       "  Age_Band Clase_Social  Persona  \n",
       "0    25-40         D2/E        1  \n",
       "1      <18         D2/E        1  \n",
       "3    40-60         D2/E        1  \n",
       "4      <18         D2/E        1  \n",
       "5    40-60         D2/E        1  "
      ]
     },
     "execution_count": 35,
     "metadata": {},
     "output_type": "execute_result"
    }
   ],
   "source": [
    "edh_clean.head()"
   ]
  },
  {
   "cell_type": "code",
   "execution_count": 36,
   "metadata": {},
   "outputs": [],
   "source": [
    "def flag_edh_clean(edh_clean):\n",
    "\n",
    "    if (edh_clean['Monto_Ingreso_Per_Capita'] >= 0) and (edh_clean['Monto_Ingreso_Per_Capita'] <= 8500) and (edh_clean['REGION'] == \"Cuyo\"):\n",
    "        return 'Pobre'\n",
    "    elif (edh_clean['Monto_Ingreso_Per_Capita'] >= 0) and (edh_clean['Monto_Ingreso_Per_Capita'] <= 7500) and (edh_clean['REGION'] == \"Nordeste\"):\n",
    "        return 'Pobre'\n",
    "    elif (edh_clean['Monto_Ingreso_Per_Capita'] >= 0) and (edh_clean['Monto_Ingreso_Per_Capita'] <= 10500) and (edh_clean['REGION'] == \"Patagonia\"):\n",
    "        return 'Pobre'\n",
    "    elif (edh_clean['Monto_Ingreso_Per_Capita'] >= 0) and (edh_clean['Monto_Ingreso_Per_Capita'] <= 9000) and (edh_clean['REGION'] == \"Pampeana\"):\n",
    "        return 'Pobre'\n",
    "    elif (edh_clean['Monto_Ingreso_Per_Capita'] >= 0) and (edh_clean['Monto_Ingreso_Per_Capita'] <= 7200) and (edh_clean['REGION'] == \"Noroeste\"):\n",
    "        return 'Pobre'\n",
    "    else :\n",
    "        return \"No Pobre\"\n",
    "        \n",
    "edh_clean['Pobreza'] = edh_clean.apply(flag_edh_clean, axis = 1)"
   ]
  },
  {
   "cell_type": "code",
   "execution_count": 37,
   "metadata": {},
   "outputs": [
    {
     "data": {
      "text/html": [
       "<div>\n",
       "<style scoped>\n",
       "    .dataframe tbody tr th:only-of-type {\n",
       "        vertical-align: middle;\n",
       "    }\n",
       "\n",
       "    .dataframe tbody tr th {\n",
       "        vertical-align: top;\n",
       "    }\n",
       "\n",
       "    .dataframe thead tr th {\n",
       "        text-align: left;\n",
       "    }\n",
       "\n",
       "    .dataframe thead tr:last-of-type th {\n",
       "        text-align: right;\n",
       "    }\n",
       "</style>\n",
       "<table border=\"1\" class=\"dataframe\">\n",
       "  <thead>\n",
       "    <tr>\n",
       "      <th></th>\n",
       "      <th colspan=\"4\" halign=\"left\">Persona</th>\n",
       "    </tr>\n",
       "    <tr>\n",
       "      <th>ESTADO</th>\n",
       "      <th>Desocupado</th>\n",
       "      <th>Inactivo</th>\n",
       "      <th>Menor 10 años</th>\n",
       "      <th>Ocupado</th>\n",
       "    </tr>\n",
       "    <tr>\n",
       "      <th>Pobreza</th>\n",
       "      <th></th>\n",
       "      <th></th>\n",
       "      <th></th>\n",
       "      <th></th>\n",
       "    </tr>\n",
       "  </thead>\n",
       "  <tbody>\n",
       "    <tr>\n",
       "      <th>No Pobre</th>\n",
       "      <td>1003</td>\n",
       "      <td>12282</td>\n",
       "      <td>2951</td>\n",
       "      <td>13413</td>\n",
       "    </tr>\n",
       "    <tr>\n",
       "      <th>Pobre</th>\n",
       "      <td>891</td>\n",
       "      <td>7512</td>\n",
       "      <td>2973</td>\n",
       "      <td>5476</td>\n",
       "    </tr>\n",
       "  </tbody>\n",
       "</table>\n",
       "</div>"
      ],
      "text/plain": [
       "            Persona                               \n",
       "ESTADO   Desocupado Inactivo Menor 10 años Ocupado\n",
       "Pobreza                                           \n",
       "No Pobre       1003    12282          2951   13413\n",
       "Pobre           891     7512          2973    5476"
      ]
     },
     "execution_count": 37,
     "metadata": {},
     "output_type": "execute_result"
    }
   ],
   "source": [
    "Pobres = pd.pivot_table(edh_clean,values = ['Persona'], columns =  edh_clean.ESTADO ,index = [edh_clean.Pobreza] , aggfunc = np.sum)\n",
    "Pobres"
   ]
  },
  {
   "cell_type": "code",
   "execution_count": 38,
   "metadata": {},
   "outputs": [],
   "source": [
    "x = edh_clean.iloc[:,[0,1,3,4,5,6,7,8,9,-6,-4]]\n",
    "y = edh_clean.iloc[:,-1]"
   ]
  },
  {
   "cell_type": "code",
   "execution_count": 39,
   "metadata": {},
   "outputs": [
    {
     "data": {
      "text/html": [
       "<div>\n",
       "<style scoped>\n",
       "    .dataframe tbody tr th:only-of-type {\n",
       "        vertical-align: middle;\n",
       "    }\n",
       "\n",
       "    .dataframe tbody tr th {\n",
       "        vertical-align: top;\n",
       "    }\n",
       "\n",
       "    .dataframe thead th {\n",
       "        text-align: right;\n",
       "    }\n",
       "</style>\n",
       "<table border=\"1\" class=\"dataframe\">\n",
       "  <thead>\n",
       "    <tr style=\"text-align: right;\">\n",
       "      <th></th>\n",
       "      <th>REGION</th>\n",
       "      <th>Sexo</th>\n",
       "      <th>Estado_Civil</th>\n",
       "      <th>Tipo_de_Cobertura</th>\n",
       "      <th>Sabe_leer_y_escribir?</th>\n",
       "      <th>Estudia?</th>\n",
       "      <th>Nacionalidad</th>\n",
       "      <th>Nivel_Educativo</th>\n",
       "      <th>ESTADO</th>\n",
       "      <th>Habitantes_Hogar</th>\n",
       "      <th>Age_Band</th>\n",
       "    </tr>\n",
       "  </thead>\n",
       "  <tbody>\n",
       "    <tr>\n",
       "      <th>0</th>\n",
       "      <td>Nordeste</td>\n",
       "      <td>Mujer</td>\n",
       "      <td>Unido</td>\n",
       "      <td>No</td>\n",
       "      <td>Si</td>\n",
       "      <td>No, pero asistio</td>\n",
       "      <td>Argentino</td>\n",
       "      <td>Secundario Completa</td>\n",
       "      <td>Inactivo</td>\n",
       "      <td>4</td>\n",
       "      <td>25-40</td>\n",
       "    </tr>\n",
       "    <tr>\n",
       "      <th>1</th>\n",
       "      <td>Nordeste</td>\n",
       "      <td>Mujer</td>\n",
       "      <td>Soltero</td>\n",
       "      <td>No</td>\n",
       "      <td>Si</td>\n",
       "      <td>Si, asiste</td>\n",
       "      <td>Argentino</td>\n",
       "      <td>Secundario Incompleta</td>\n",
       "      <td>Inactivo</td>\n",
       "      <td>4</td>\n",
       "      <td>&lt;18</td>\n",
       "    </tr>\n",
       "    <tr>\n",
       "      <th>3</th>\n",
       "      <td>Nordeste</td>\n",
       "      <td>Mujer</td>\n",
       "      <td>Soltero</td>\n",
       "      <td>No</td>\n",
       "      <td>Si</td>\n",
       "      <td>No, pero asistio</td>\n",
       "      <td>Argentino</td>\n",
       "      <td>Universidad Incompleta</td>\n",
       "      <td>Ocupado</td>\n",
       "      <td>2</td>\n",
       "      <td>40-60</td>\n",
       "    </tr>\n",
       "    <tr>\n",
       "      <th>4</th>\n",
       "      <td>Nordeste</td>\n",
       "      <td>Mujer</td>\n",
       "      <td>Soltero</td>\n",
       "      <td>No</td>\n",
       "      <td>Si</td>\n",
       "      <td>Si, asiste</td>\n",
       "      <td>Argentino</td>\n",
       "      <td>Primaria Incompleta</td>\n",
       "      <td>Menor 10 años</td>\n",
       "      <td>2</td>\n",
       "      <td>&lt;18</td>\n",
       "    </tr>\n",
       "    <tr>\n",
       "      <th>5</th>\n",
       "      <td>Nordeste</td>\n",
       "      <td>Hombre</td>\n",
       "      <td>Separado</td>\n",
       "      <td>No</td>\n",
       "      <td>Si</td>\n",
       "      <td>No, pero asistio</td>\n",
       "      <td>Argentino</td>\n",
       "      <td>Primaria Incompleta</td>\n",
       "      <td>Ocupado</td>\n",
       "      <td>1</td>\n",
       "      <td>40-60</td>\n",
       "    </tr>\n",
       "  </tbody>\n",
       "</table>\n",
       "</div>"
      ],
      "text/plain": [
       "     REGION    Sexo Estado_Civil Tipo_de_Cobertura Sabe_leer_y_escribir?  \\\n",
       "0  Nordeste   Mujer        Unido                No                    Si   \n",
       "1  Nordeste   Mujer      Soltero                No                    Si   \n",
       "3  Nordeste   Mujer      Soltero                No                    Si   \n",
       "4  Nordeste   Mujer      Soltero                No                    Si   \n",
       "5  Nordeste  Hombre     Separado                No                    Si   \n",
       "\n",
       "           Estudia? Nacionalidad         Nivel_Educativo         ESTADO  \\\n",
       "0  No, pero asistio    Argentino     Secundario Completa       Inactivo   \n",
       "1        Si, asiste    Argentino   Secundario Incompleta       Inactivo   \n",
       "3  No, pero asistio    Argentino  Universidad Incompleta        Ocupado   \n",
       "4        Si, asiste    Argentino     Primaria Incompleta  Menor 10 años   \n",
       "5  No, pero asistio    Argentino     Primaria Incompleta        Ocupado   \n",
       "\n",
       "   Habitantes_Hogar Age_Band  \n",
       "0                 4    25-40  \n",
       "1                 4      <18  \n",
       "3                 2    40-60  \n",
       "4                 2      <18  \n",
       "5                 1    40-60  "
      ]
     },
     "execution_count": 39,
     "metadata": {},
     "output_type": "execute_result"
    }
   ],
   "source": [
    "x.head()"
   ]
  },
  {
   "cell_type": "code",
   "execution_count": 40,
   "metadata": {},
   "outputs": [
    {
     "data": {
      "text/plain": [
       "0       Pobre\n",
       "1       Pobre\n",
       "3       Pobre\n",
       "4       Pobre\n",
       "5    No Pobre\n",
       "Name: Pobreza, dtype: object"
      ]
     },
     "execution_count": 40,
     "metadata": {},
     "output_type": "execute_result"
    }
   ],
   "source": [
    "y.head()"
   ]
  },
  {
   "cell_type": "code",
   "execution_count": 41,
   "metadata": {},
   "outputs": [],
   "source": [
    "Habitantes_dummie = edh_clean.iloc[:,[-6]]\n",
    "Region_dummie = pd.get_dummies(edh_clean.REGION)\n",
    "Sexo_dummie = pd.get_dummies(edh_clean.Sexo)\n",
    "Estado_civil_dummie = pd.get_dummies(edh_clean.Estado_Civil)\n",
    "Cobertura_dummie = pd.get_dummies(edh_clean.Tipo_de_Cobertura)\n",
    "Alfabetismo_dummie = pd.get_dummies(edh_clean[\"Sabe_leer_y_escribir?\"])\n",
    "Nacionalidad_dummie = pd.get_dummies(edh_clean.Nacionalidad)\n",
    "Educ_dummie = pd.get_dummies(edh_clean.Nivel_Educativo)\n",
    "Estado_dummie = pd.get_dummies(edh_clean.ESTADO)\n",
    "Age_Band_dummie = pd.get_dummies(edh_clean.Age_Band)\n",
    "Estudio_dummie = pd.get_dummies(edh_clean[\"Estudia?\"])"
   ]
  },
  {
   "cell_type": "code",
   "execution_count": 42,
   "metadata": {},
   "outputs": [
    {
     "data": {
      "text/html": [
       "<div>\n",
       "<style scoped>\n",
       "    .dataframe tbody tr th:only-of-type {\n",
       "        vertical-align: middle;\n",
       "    }\n",
       "\n",
       "    .dataframe tbody tr th {\n",
       "        vertical-align: top;\n",
       "    }\n",
       "\n",
       "    .dataframe thead th {\n",
       "        text-align: right;\n",
       "    }\n",
       "</style>\n",
       "<table border=\"1\" class=\"dataframe\">\n",
       "  <thead>\n",
       "    <tr style=\"text-align: right;\">\n",
       "      <th></th>\n",
       "      <th>Habitantes_Hogar</th>\n",
       "    </tr>\n",
       "  </thead>\n",
       "  <tbody>\n",
       "    <tr>\n",
       "      <th>0</th>\n",
       "      <td>4</td>\n",
       "    </tr>\n",
       "    <tr>\n",
       "      <th>1</th>\n",
       "      <td>4</td>\n",
       "    </tr>\n",
       "    <tr>\n",
       "      <th>3</th>\n",
       "      <td>2</td>\n",
       "    </tr>\n",
       "    <tr>\n",
       "      <th>4</th>\n",
       "      <td>2</td>\n",
       "    </tr>\n",
       "    <tr>\n",
       "      <th>5</th>\n",
       "      <td>1</td>\n",
       "    </tr>\n",
       "  </tbody>\n",
       "</table>\n",
       "</div>"
      ],
      "text/plain": [
       "   Habitantes_Hogar\n",
       "0                 4\n",
       "1                 4\n",
       "3                 2\n",
       "4                 2\n",
       "5                 1"
      ]
     },
     "execution_count": 42,
     "metadata": {},
     "output_type": "execute_result"
    }
   ],
   "source": [
    "Habitantes_dummie.head()"
   ]
  },
  {
   "cell_type": "code",
   "execution_count": 43,
   "metadata": {},
   "outputs": [
    {
     "data": {
      "text/html": [
       "<div>\n",
       "<style scoped>\n",
       "    .dataframe tbody tr th:only-of-type {\n",
       "        vertical-align: middle;\n",
       "    }\n",
       "\n",
       "    .dataframe tbody tr th {\n",
       "        vertical-align: top;\n",
       "    }\n",
       "\n",
       "    .dataframe thead th {\n",
       "        text-align: right;\n",
       "    }\n",
       "</style>\n",
       "<table border=\"1\" class=\"dataframe\">\n",
       "  <thead>\n",
       "    <tr style=\"text-align: right;\">\n",
       "      <th></th>\n",
       "      <th>Habitantes_Hogar</th>\n",
       "      <th>Cuyo</th>\n",
       "      <th>Gran Buenos Aires</th>\n",
       "      <th>Nordeste</th>\n",
       "      <th>Noroeste</th>\n",
       "      <th>Pampeana</th>\n",
       "      <th>Patagónica</th>\n",
       "      <th>Hombre</th>\n",
       "      <th>Mujer</th>\n",
       "      <th>Casado</th>\n",
       "      <th>...</th>\n",
       "      <th>Menor 10 años</th>\n",
       "      <th>Ocupado</th>\n",
       "      <th>18-25</th>\n",
       "      <th>25-40</th>\n",
       "      <th>40-60</th>\n",
       "      <th>&lt;18</th>\n",
       "      <th>&gt;60</th>\n",
       "      <th>No, pero asistio</th>\n",
       "      <th>Nunca asistio</th>\n",
       "      <th>Si, asiste</th>\n",
       "    </tr>\n",
       "  </thead>\n",
       "  <tbody>\n",
       "    <tr>\n",
       "      <th>0</th>\n",
       "      <td>4</td>\n",
       "      <td>0</td>\n",
       "      <td>0</td>\n",
       "      <td>1</td>\n",
       "      <td>0</td>\n",
       "      <td>0</td>\n",
       "      <td>0</td>\n",
       "      <td>0</td>\n",
       "      <td>1</td>\n",
       "      <td>0</td>\n",
       "      <td>...</td>\n",
       "      <td>0</td>\n",
       "      <td>0</td>\n",
       "      <td>0</td>\n",
       "      <td>1</td>\n",
       "      <td>0</td>\n",
       "      <td>0</td>\n",
       "      <td>0</td>\n",
       "      <td>1</td>\n",
       "      <td>0</td>\n",
       "      <td>0</td>\n",
       "    </tr>\n",
       "    <tr>\n",
       "      <th>1</th>\n",
       "      <td>4</td>\n",
       "      <td>0</td>\n",
       "      <td>0</td>\n",
       "      <td>1</td>\n",
       "      <td>0</td>\n",
       "      <td>0</td>\n",
       "      <td>0</td>\n",
       "      <td>0</td>\n",
       "      <td>1</td>\n",
       "      <td>0</td>\n",
       "      <td>...</td>\n",
       "      <td>0</td>\n",
       "      <td>0</td>\n",
       "      <td>0</td>\n",
       "      <td>0</td>\n",
       "      <td>0</td>\n",
       "      <td>1</td>\n",
       "      <td>0</td>\n",
       "      <td>0</td>\n",
       "      <td>0</td>\n",
       "      <td>1</td>\n",
       "    </tr>\n",
       "    <tr>\n",
       "      <th>3</th>\n",
       "      <td>2</td>\n",
       "      <td>0</td>\n",
       "      <td>0</td>\n",
       "      <td>1</td>\n",
       "      <td>0</td>\n",
       "      <td>0</td>\n",
       "      <td>0</td>\n",
       "      <td>0</td>\n",
       "      <td>1</td>\n",
       "      <td>0</td>\n",
       "      <td>...</td>\n",
       "      <td>0</td>\n",
       "      <td>1</td>\n",
       "      <td>0</td>\n",
       "      <td>0</td>\n",
       "      <td>1</td>\n",
       "      <td>0</td>\n",
       "      <td>0</td>\n",
       "      <td>1</td>\n",
       "      <td>0</td>\n",
       "      <td>0</td>\n",
       "    </tr>\n",
       "    <tr>\n",
       "      <th>4</th>\n",
       "      <td>2</td>\n",
       "      <td>0</td>\n",
       "      <td>0</td>\n",
       "      <td>1</td>\n",
       "      <td>0</td>\n",
       "      <td>0</td>\n",
       "      <td>0</td>\n",
       "      <td>0</td>\n",
       "      <td>1</td>\n",
       "      <td>0</td>\n",
       "      <td>...</td>\n",
       "      <td>1</td>\n",
       "      <td>0</td>\n",
       "      <td>0</td>\n",
       "      <td>0</td>\n",
       "      <td>0</td>\n",
       "      <td>1</td>\n",
       "      <td>0</td>\n",
       "      <td>0</td>\n",
       "      <td>0</td>\n",
       "      <td>1</td>\n",
       "    </tr>\n",
       "    <tr>\n",
       "      <th>5</th>\n",
       "      <td>1</td>\n",
       "      <td>0</td>\n",
       "      <td>0</td>\n",
       "      <td>1</td>\n",
       "      <td>0</td>\n",
       "      <td>0</td>\n",
       "      <td>0</td>\n",
       "      <td>1</td>\n",
       "      <td>0</td>\n",
       "      <td>0</td>\n",
       "      <td>...</td>\n",
       "      <td>0</td>\n",
       "      <td>1</td>\n",
       "      <td>0</td>\n",
       "      <td>0</td>\n",
       "      <td>1</td>\n",
       "      <td>0</td>\n",
       "      <td>0</td>\n",
       "      <td>1</td>\n",
       "      <td>0</td>\n",
       "      <td>0</td>\n",
       "    </tr>\n",
       "  </tbody>\n",
       "</table>\n",
       "<p>5 rows × 42 columns</p>\n",
       "</div>"
      ],
      "text/plain": [
       "   Habitantes_Hogar  Cuyo  Gran Buenos Aires  Nordeste  Noroeste  Pampeana  \\\n",
       "0                 4     0                  0         1         0         0   \n",
       "1                 4     0                  0         1         0         0   \n",
       "3                 2     0                  0         1         0         0   \n",
       "4                 2     0                  0         1         0         0   \n",
       "5                 1     0                  0         1         0         0   \n",
       "\n",
       "   Patagónica  Hombre  Mujer  Casado  ...  Menor 10 años  Ocupado  18-25  \\\n",
       "0           0       0      1       0  ...              0        0      0   \n",
       "1           0       0      1       0  ...              0        0      0   \n",
       "3           0       0      1       0  ...              0        1      0   \n",
       "4           0       0      1       0  ...              1        0      0   \n",
       "5           0       1      0       0  ...              0        1      0   \n",
       "\n",
       "   25-40  40-60  <18  >60  No, pero asistio  Nunca asistio  Si, asiste  \n",
       "0      1      0    0    0                 1              0           0  \n",
       "1      0      0    1    0                 0              0           1  \n",
       "3      0      1    0    0                 1              0           0  \n",
       "4      0      0    1    0                 0              0           1  \n",
       "5      0      1    0    0                 1              0           0  \n",
       "\n",
       "[5 rows x 42 columns]"
      ]
     },
     "execution_count": 43,
     "metadata": {},
     "output_type": "execute_result"
    }
   ],
   "source": [
    "edh_model = pd.concat([Habitantes_dummie, Region_dummie, Sexo_dummie, Estado_civil_dummie, Cobertura_dummie, Alfabetismo_dummie, Nacionalidad_dummie, Educ_dummie, Estado_dummie, Age_Band_dummie, Estudio_dummie], axis = 1)\n",
    "edh_model.head()"
   ]
  },
  {
   "cell_type": "code",
   "execution_count": 44,
   "metadata": {},
   "outputs": [
    {
     "data": {
      "text/plain": [
       "(46501, 42)"
      ]
     },
     "execution_count": 44,
     "metadata": {},
     "output_type": "execute_result"
    }
   ],
   "source": [
    "x= edh_model\n",
    "x.shape"
   ]
  },
  {
   "cell_type": "code",
   "execution_count": 45,
   "metadata": {},
   "outputs": [
    {
     "data": {
      "text/plain": [
       "(46501,)"
      ]
     },
     "execution_count": 45,
     "metadata": {},
     "output_type": "execute_result"
    }
   ],
   "source": [
    "y.shape"
   ]
  },
  {
   "cell_type": "code",
   "execution_count": 46,
   "metadata": {},
   "outputs": [],
   "source": [
    "xtrain, xtest, ytrain, ytest = train_test_split(x, y, test_size=0.3, random_state=0)"
   ]
  },
  {
   "cell_type": "code",
   "execution_count": 47,
   "metadata": {},
   "outputs": [
    {
     "name": "stderr",
     "output_type": "stream",
     "text": [
      "C:\\Users\\nicolas\\Anaconda3\\lib\\site-packages\\sklearn\\linear_model\\logistic.py:432: FutureWarning: Default solver will be changed to 'lbfgs' in 0.22. Specify a solver to silence this warning.\n",
      "  FutureWarning)\n"
     ]
    },
    {
     "data": {
      "text/plain": [
       "LogisticRegression(C=1.0, class_weight=None, dual=False, fit_intercept=True,\n",
       "                   intercept_scaling=1, l1_ratio=None, max_iter=100,\n",
       "                   multi_class='warn', n_jobs=None, penalty='l2',\n",
       "                   random_state=None, solver='warn', tol=0.0001, verbose=0,\n",
       "                   warm_start=False)"
      ]
     },
     "execution_count": 47,
     "metadata": {},
     "output_type": "execute_result"
    }
   ],
   "source": [
    "from sklearn.linear_model import LogisticRegression\n",
    "logreg = LogisticRegression()\n",
    "logreg.fit(xtrain,ytrain)"
   ]
  },
  {
   "cell_type": "code",
   "execution_count": 48,
   "metadata": {},
   "outputs": [
    {
     "data": {
      "text/plain": [
       "array(['No Pobre', 'No Pobre', 'No Pobre', ..., 'No Pobre', 'No Pobre',\n",
       "       'No Pobre'], dtype=object)"
      ]
     },
     "execution_count": 48,
     "metadata": {},
     "output_type": "execute_result"
    }
   ],
   "source": [
    "y_pred=logreg.predict(xtest)\n",
    "y_pred"
   ]
  },
  {
   "cell_type": "code",
   "execution_count": 49,
   "metadata": {},
   "outputs": [
    {
     "data": {
      "text/plain": [
       "array([[7739, 1190],\n",
       "       [1364, 3658]], dtype=int64)"
      ]
     },
     "execution_count": 49,
     "metadata": {},
     "output_type": "execute_result"
    }
   ],
   "source": [
    "from sklearn import metrics\n",
    "cm = metrics.confusion_matrix(ytest, y_pred)\n",
    "cm"
   ]
  },
  {
   "cell_type": "code",
   "execution_count": 50,
   "metadata": {},
   "outputs": [
    {
     "data": {
      "image/png": "[encoded data removed]",
      "text/plain": [
       "<Figure size 360x360 with 2 Axes>"
      ]
     },
     "metadata": {
      "needs_background": "light"
     },
     "output_type": "display_data"
    }
   ],
   "source": [
    "df_cm = pd.DataFrame(cm, index = [i for i in np.unique(y)],columns = [i for i in np.unique(y)])\n",
    "plt.figure(figsize = (5,5))\n",
    "sns.heatmap(df_cm, annot=True, cmap=\"YlGnBu\")\n",
    "plt.show()"
   ]
  },
  {
   "cell_type": "code",
   "execution_count": 51,
   "metadata": {},
   "outputs": [
    {
     "name": "stdout",
     "output_type": "stream",
     "text": [
      "Accuracy: 0.8169306859723318\n"
     ]
    }
   ],
   "source": [
    "print(\"Accuracy:\",metrics.accuracy_score(ytest, y_pred))"
   ]
  },
  {
   "cell_type": "code",
   "execution_count": 52,
   "metadata": {},
   "outputs": [
    {
     "name": "stdout",
     "output_type": "stream",
     "text": [
      "El accuracy es 0.7944233388287578\n"
     ]
    }
   ],
   "source": [
    "neigh = KNeighborsClassifier(n_neighbors=5)\n",
    "neigh.fit(xtrain, ytrain)\n",
    "ypred = neigh.predict(xtest)\n",
    "test_acc = accuracy_score(ytest, ypred)\n",
    "print(\"El accuracy es \" + str(test_acc))"
   ]
  },
  {
   "cell_type": "code",
   "execution_count": 53,
   "metadata": {},
   "outputs": [
    {
     "data": {
      "text/plain": [
       "SVC(C=1.0, cache_size=200, class_weight=None, coef0=0.0,\n",
       "    decision_function_shape='ovr', degree=3, gamma='auto', kernel='linear',\n",
       "    max_iter=-1, probability=False, random_state=None, shrinking=True,\n",
       "    tol=0.001, verbose=False)"
      ]
     },
     "execution_count": 53,
     "metadata": {},
     "output_type": "execute_result"
    }
   ],
   "source": [
    "svclassifier = SVC(kernel='linear', gamma='auto')\n",
    "svclassifier.fit(xtrain, ytrain)"
   ]
  },
  {
   "cell_type": "code",
   "execution_count": 54,
   "metadata": {},
   "outputs": [],
   "source": [
    "y_pred2 = svclassifier.predict(xtest)"
   ]
  },
  {
   "cell_type": "code",
   "execution_count": 55,
   "metadata": {},
   "outputs": [
    {
     "name": "stdout",
     "output_type": "stream",
     "text": [
      "El accuracy es 0.8164289298258189\n"
     ]
    }
   ],
   "source": [
    "test_acc2 = accuracy_score(ytest, y_pred2)\n",
    "print(\"El accuracy es \" + str(test_acc2))"
   ]
  }
 ],
 "metadata": {
  "kernelspec": {
   "display_name": "Python 3",
   "language": "python",
   "name": "python3"
  },
  "language_info": {
   "codemirror_mode": {
    "name": "ipython",
    "version": 3
   },
   "file_extension": ".py",
   "mimetype": "text/x-python",
   "name": "python",
   "nbconvert_exporter": "python",
   "pygments_lexer": "ipython3",
   "version": "3.7.3"
  }
 },
 "nbformat": 4,
 "nbformat_minor": 4
}
